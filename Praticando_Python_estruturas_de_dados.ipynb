{
  "nbformat": 4,
  "nbformat_minor": 0,
  "metadata": {
    "colab": {
      "provenance": [],
      "authorship_tag": "ABX9TyNvXpeSafKkFtzuN1CV6Q6i",
      "include_colab_link": true
    },
    "kernelspec": {
      "name": "python3",
      "display_name": "Python 3"
    },
    "language_info": {
      "name": "python"
    }
  },
  "cells": [
    {
      "cell_type": "markdown",
      "metadata": {
        "id": "view-in-github",
        "colab_type": "text"
      },
      "source": [
        "<a href=\"https://colab.research.google.com/github/Gabriellemga/Praticando_Python/blob/main/Praticando_Python_estruturas_de_dados.ipynb\" target=\"_parent\"><img src=\"https://colab.research.google.com/assets/colab-badge.svg\" alt=\"Open In Colab\"/></a>"
      ]
    },
    {
      "cell_type": "markdown",
      "source": [
        "# Desafio 1 - Análise de dados de atletas em uma lista"
      ],
      "metadata": {
        "id": "uVN7gkd853dQ"
      }
    },
    {
      "cell_type": "markdown",
      "source": [
        "Você é um cientista de dados trabalhando para um comitê olímpico. Você recebeu uma lista com informações de atletas de diversas modalidades, incluindo nome, altura (em metros) e peso (em kg). Esses dados estão organizados de forma um pouco confusa, dificultando a análise. Sua tarefa é usar um loop for em Python para processar essa lista e organizar as informações de cada atleta em um formato mais estruturado, facilitando futuras análises estatísticas e comparações.\n",
        "\n",
        "A lista de atletas é representada da seguinte maneira:\n",
        "\n",
        "```\n",
        "# atletas = [\n",
        "    [\"Maria Silva\", 1.75, 65],\n",
        "    [\"João Santos\", 1.80, 72],\n",
        "    [\"Ana Pereira\", 1.68, 58],\n",
        "    [\"Pedro Oliveira\", 1.92, 85],\n",
        "    [\"Carlos Lima\", 1.85, 78],\n",
        "    [\"Beatriz Souza\", 1.70, 60],\n",
        "    [\"Fernanda Costa\", 1.62, 55],\n",
        "    [\"Lucas Almeida\", 1.88, 82],\n",
        "    [\"Rafaela Gomes\", 1.74, 63],\n",
        "    [\"Gustavo Ferreira\", 1.90, 88],\n",
        "    [\"Larissa Rocha\", 1.66, 57],\n",
        "    [\"Henrique Nunes\", 1.83, 76],\n",
        "    [\"Juliana Martins\", 1.72, 59],\n",
        "    [\"Ricardo Carvalho\", 1.86, 80],\n",
        "    [\"Sofia Alves\", 1.64, 54],\n",
        "    [\"Matheus Ribeiro\", 1.89, 84],\n",
        "    [\"Camila Duarte\", 1.69, 61],\n",
        "    [\"Gabriel Monteiro\", 1.77, 73],\n",
        "    [\"Eduarda Farias\", 1.71, 62],\n",
        "    [\"Thiago Mendes\", 1.84, 79],\n",
        "]\n",
        "```\n",
        "\n"
      ],
      "metadata": {
        "id": "S2V4ggUtDYeu"
      }
    },
    {
      "cell_type": "code",
      "source": [
        "atletas = [\n",
        "    [\"Maria Silva\", 1.75, 65],\n",
        "    [\"João Santos\", 1.80, 72],\n",
        "    [\"Ana Pereira\", 1.68, 58],\n",
        "    [\"Pedro Oliveira\", 1.92, 85],\n",
        "    [\"Carlos Lima\", 1.85, 78],\n",
        "    [\"Beatriz Souza\", 1.70, 60],\n",
        "    [\"Fernanda Costa\", 1.62, 55],\n",
        "    [\"Lucas Almeida\", 1.88, 82],\n",
        "    [\"Rafaela Gomes\", 1.74, 63],\n",
        "    [\"Gustavo Ferreira\", 1.90, 88],\n",
        "    [\"Larissa Rocha\", 1.66, 57],\n",
        "    [\"Henrique Nunes\", 1.83, 76],\n",
        "    [\"Juliana Martins\", 1.72, 59],\n",
        "    [\"Ricardo Carvalho\", 1.86, 80],\n",
        "    [\"Sofia Alves\", 1.64, 54],\n",
        "    [\"Matheus Ribeiro\", 1.89, 84],\n",
        "    [\"Camila Duarte\", 1.69, 61],\n",
        "    [\"Gabriel Monteiro\", 1.77, 73],\n",
        "    [\"Eduarda Farias\", 1.71, 62],\n",
        "    [\"Thiago Mendes\", 1.84, 79],\n",
        "]"
      ],
      "metadata": {
        "id": "t28Ks2TREFXA"
      },
      "execution_count": null,
      "outputs": []
    },
    {
      "cell_type": "code",
      "source": [
        "for i in range(len(atletas)): ## Loop para processar os indices da lista atletas\n",
        "  print(f'Nome: {atletas[i][0]}') # Primeiro elemento da lista é o nome\n",
        "  print(f'Altura: {atletas[i][1]} m')  # Segundo elemento da lista é a altura\n",
        "  print(f'Peso: {atletas[i][2]} kg') # Terceiro elemento da lista é o peso\n",
        "  print('-'*20) # Linha separadora\n"
      ],
      "metadata": {
        "colab": {
          "base_uri": "https://localhost:8080/"
        },
        "id": "wUqELC65Eggv",
        "outputId": "b5af65b5-9715-4d13-aa9f-4b8ff9149f3a"
      },
      "execution_count": null,
      "outputs": [
        {
          "output_type": "stream",
          "name": "stdout",
          "text": [
            "Nome: Maria Silva\n",
            "Altura: 1.75 m\n",
            "Peso: 65 kg\n",
            "--------------------\n",
            "Nome: João Santos\n",
            "Altura: 1.8 m\n",
            "Peso: 72 kg\n",
            "--------------------\n",
            "Nome: Ana Pereira\n",
            "Altura: 1.68 m\n",
            "Peso: 58 kg\n",
            "--------------------\n",
            "Nome: Pedro Oliveira\n",
            "Altura: 1.92 m\n",
            "Peso: 85 kg\n",
            "--------------------\n",
            "Nome: Carlos Lima\n",
            "Altura: 1.85 m\n",
            "Peso: 78 kg\n",
            "--------------------\n",
            "Nome: Beatriz Souza\n",
            "Altura: 1.7 m\n",
            "Peso: 60 kg\n",
            "--------------------\n",
            "Nome: Fernanda Costa\n",
            "Altura: 1.62 m\n",
            "Peso: 55 kg\n",
            "--------------------\n",
            "Nome: Lucas Almeida\n",
            "Altura: 1.88 m\n",
            "Peso: 82 kg\n",
            "--------------------\n",
            "Nome: Rafaela Gomes\n",
            "Altura: 1.74 m\n",
            "Peso: 63 kg\n",
            "--------------------\n",
            "Nome: Gustavo Ferreira\n",
            "Altura: 1.9 m\n",
            "Peso: 88 kg\n",
            "--------------------\n",
            "Nome: Larissa Rocha\n",
            "Altura: 1.66 m\n",
            "Peso: 57 kg\n",
            "--------------------\n",
            "Nome: Henrique Nunes\n",
            "Altura: 1.83 m\n",
            "Peso: 76 kg\n",
            "--------------------\n",
            "Nome: Juliana Martins\n",
            "Altura: 1.72 m\n",
            "Peso: 59 kg\n",
            "--------------------\n",
            "Nome: Ricardo Carvalho\n",
            "Altura: 1.86 m\n",
            "Peso: 80 kg\n",
            "--------------------\n",
            "Nome: Sofia Alves\n",
            "Altura: 1.64 m\n",
            "Peso: 54 kg\n",
            "--------------------\n",
            "Nome: Matheus Ribeiro\n",
            "Altura: 1.89 m\n",
            "Peso: 84 kg\n",
            "--------------------\n",
            "Nome: Camila Duarte\n",
            "Altura: 1.69 m\n",
            "Peso: 61 kg\n",
            "--------------------\n",
            "Nome: Gabriel Monteiro\n",
            "Altura: 1.77 m\n",
            "Peso: 73 kg\n",
            "--------------------\n",
            "Nome: Eduarda Farias\n",
            "Altura: 1.71 m\n",
            "Peso: 62 kg\n",
            "--------------------\n",
            "Nome: Thiago Mendes\n",
            "Altura: 1.84 m\n",
            "Peso: 79 kg\n",
            "--------------------\n"
          ]
        }
      ]
    },
    {
      "cell_type": "markdown",
      "source": [
        "# Desafio 2 - Criando uma lista de tuplas"
      ],
      "metadata": {
        "id": "5wx68t1N6DRw"
      }
    },
    {
      "cell_type": "markdown",
      "source": [
        "Continuando o seu trabalho como cientista de dados do comitê olímpico, agora você deve reorganizar a lista de atletas, em uma lista de tuplas, onde cada tupla representa um atleta e contém as informações de nome, altura e peso, respectivamente. Essa estrutura permitirá o acesso aos dados de cada atleta de forma mais eficiente, e que esses dados não possam mais ser modificados. Essa organização é crucial para etapas posteriores da análise, como o cálculo do IMC (Índice de Massa Corporal) de cada atleta e a identificação de padrões nos dados."
      ],
      "metadata": {
        "id": "xYLsNV6ePFU_"
      }
    },
    {
      "cell_type": "code",
      "source": [
        "atletas_tupla = [(atletas[i][0], atletas[i][1], atletas[i][2]) for i in range(len(atletas)) ]\n",
        "print(atletas_tupla)"
      ],
      "metadata": {
        "colab": {
          "base_uri": "https://localhost:8080/"
        },
        "id": "X9ECRlAZPggH",
        "outputId": "0b12c513-b9d4-4484-9b47-5eede3e7fd4c"
      },
      "execution_count": null,
      "outputs": [
        {
          "output_type": "stream",
          "name": "stdout",
          "text": [
            "[('Maria Silva', 1.75, 65), ('João Santos', 1.8, 72), ('Ana Pereira', 1.68, 58), ('Pedro Oliveira', 1.92, 85), ('Carlos Lima', 1.85, 78), ('Beatriz Souza', 1.7, 60), ('Fernanda Costa', 1.62, 55), ('Lucas Almeida', 1.88, 82), ('Rafaela Gomes', 1.74, 63), ('Gustavo Ferreira', 1.9, 88), ('Larissa Rocha', 1.66, 57), ('Henrique Nunes', 1.83, 76), ('Juliana Martins', 1.72, 59), ('Ricardo Carvalho', 1.86, 80), ('Sofia Alves', 1.64, 54), ('Matheus Ribeiro', 1.89, 84), ('Camila Duarte', 1.69, 61), ('Gabriel Monteiro', 1.77, 73), ('Eduarda Farias', 1.71, 62), ('Thiago Mendes', 1.84, 79)]\n"
          ]
        }
      ]
    },
    {
      "cell_type": "markdown",
      "source": [
        "# Desafio 3 - Usando o list comprehension"
      ],
      "metadata": {
        "id": "4r1XsbpW6OMf"
      }
    },
    {
      "cell_type": "markdown",
      "source": [
        "Para uma análise preliminar, precisamos calcular a altura média desses atletas de forma eficiente utilizando o recurso de list comprehension do Python. Esses dados são cruciais para entender as características físicas gerais do grupo de atletas e podem ser usados posteriormente para comparações com outros grupos ou para identificar padrões interessantes."
      ],
      "metadata": {
        "id": "Q_PlLLPgRs3o"
      }
    },
    {
      "cell_type": "code",
      "source": [
        "altura = [atleta[1] for atleta in atletas_tupla]\n",
        "altura_media = sum(altura)/len(altura)\n",
        "print(f'A altura média dos atletas: {altura_media:.2f} m')"
      ],
      "metadata": {
        "colab": {
          "base_uri": "https://localhost:8080/"
        },
        "id": "DCLTMeEBRwAX",
        "outputId": "e0b8b74d-25c8-496d-df73-4c8230988178"
      },
      "execution_count": null,
      "outputs": [
        {
          "output_type": "stream",
          "name": "stdout",
          "text": [
            "A altura média dos atletas: 1.77 m\n"
          ]
        }
      ]
    },
    {
      "cell_type": "markdown",
      "source": [
        "# Desafio 4 - Calculando o IMC"
      ],
      "metadata": {
        "id": "Y6SV9vWX6iDH"
      }
    },
    {
      "cell_type": "markdown",
      "source": [
        "Agora, queremos identificar quais atletas possuem IMC (Índice de Massa Corporal) acima de 25, que é considerado como sobrepeso. O cálculo do IMC pode ser feito com a fórmula:\n",
        "\n",
        "![image.png](data:image/png;base64,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)\n",
        "\n",
        "#### Utilizando list comprehension, crie uma lista contendo o nome dos atletas que possuem IMC maior que 25 e imprima essa lista."
      ],
      "metadata": {
        "id": "CDHhSvTyUvjZ"
      }
    },
    {
      "cell_type": "code",
      "source": [
        "atletas = [\n",
        "    (\"Maria Silva\", 1.75, 65),\n",
        "    (\"João Santos\", 1.80, 72),\n",
        "    (\"Ana Pereira\", 1.68, 58),\n",
        "    (\"Pedro Oliveira\", 1.92, 85),\n",
        "    (\"Carlos Lima\", 1.85, 78),\n",
        "    (\"Beatriz Souza\", 1.70, 60),\n",
        "    (\"Fernanda Costa\", 1.62, 55),\n",
        "    (\"Lucas Almeida\", 1.88, 82),\n",
        "    (\"Rafaela Gomes\", 1.74, 63),\n",
        "    (\"Gustavo Ferreira\", 1.90, 88),\n",
        "    (\"Larissa Rocha\", 1.66, 57),\n",
        "    (\"Henrique Nunes\", 1.83, 76),\n",
        "    (\"Juliana Martins\", 1.72, 90),\n",
        "    (\"Ricardo Carvalho\", 1.86, 80),\n",
        "    (\"Sofia Alves\", 1.64, 54),\n",
        "    (\"Matheus Ribeiro\", 1.89, 84),\n",
        "    (\"Camila Duarte\", 1.69, 81),\n",
        "    (\"Gabriel Monteiro\", 1.77, 73),\n",
        "    (\"Eduarda Farias\", 1.71, 62),\n",
        "    (\"Thiago Mendes\", 1.84, 79),\n",
        "]"
      ],
      "metadata": {
        "id": "qKhs3QnUY1uX"
      },
      "execution_count": null,
      "outputs": []
    },
    {
      "cell_type": "code",
      "source": [
        "imc_maior_25 = [atl[0] for atl in atletas if (atl[2]/(atl[1]**2)) > 25]\n",
        "print(f'Atletas com sobrepeso: {imc_maior_25}')\n"
      ],
      "metadata": {
        "colab": {
          "base_uri": "https://localhost:8080/"
        },
        "id": "vqv2LMRWVCo3",
        "outputId": "1ad89652-c828-4dfc-aff3-41c6a8d3be32"
      },
      "execution_count": null,
      "outputs": [
        {
          "output_type": "stream",
          "name": "stdout",
          "text": [
            "Atletas com sobrepeso: ['Juliana Martins', 'Camila Duarte']\n"
          ]
        }
      ]
    },
    {
      "cell_type": "markdown",
      "source": [
        "# Desafio 5 - Classificando o IMC"
      ],
      "metadata": {
        "id": "LasgrFmW7XY_"
      }
    },
    {
      "cell_type": "markdown",
      "source": [
        "Queremos classificar os atletas com base em seu IMC (Índice de Massa Corporal) como \"Peso Normal\" ou \"Sobrepeso\". Porém, dessa vez queremos uma lista mais elaborada. Utilizando list comprehension, crie uma nova lista contendo tuplas no formato:\n",
        "\n",
        "\n",
        "```\n",
        "# (nome_do_atleta, \"Peso Normal\" ou \"Sobrepeso\")\n",
        "```\n",
        "Se o IMC do atleta for maior que 25, ele será classificado como \"Sobrepeso\". Caso contrário, será classificado como \"Peso Normal\".\n"
      ],
      "metadata": {
        "id": "c3AcQGGw7c0P"
      }
    },
    {
      "cell_type": "code",
      "source": [
        "imc = [(atl[0] , 'Sobrepeso' )  if (atl[2]/(atl[1]**2)) > 25  else (atl[0], ' Peso normal') for atl in atletas]\n",
        "print(f'Atletas com sobrepeso: {imc}')"
      ],
      "metadata": {
        "colab": {
          "base_uri": "https://localhost:8080/"
        },
        "id": "LhuePzUpa-t3",
        "outputId": "97b2b147-6724-4c82-c3b8-1457c420c59b"
      },
      "execution_count": null,
      "outputs": [
        {
          "output_type": "stream",
          "name": "stdout",
          "text": [
            "Atletas com sobrepeso: [('Maria Silva', 'Normal'), ('João Santos', 'Normal'), ('Ana Pereira', 'Normal'), ('Pedro Oliveira', 'Normal'), ('Carlos Lima', 'Normal'), ('Beatriz Souza', 'Normal'), ('Fernanda Costa', 'Normal'), ('Lucas Almeida', 'Normal'), ('Rafaela Gomes', 'Normal'), ('Gustavo Ferreira', 'Normal'), ('Larissa Rocha', 'Normal'), ('Henrique Nunes', 'Normal'), ('Juliana Martins', 'Sobrepeso'), ('Ricardo Carvalho', 'Normal'), ('Sofia Alves', 'Normal'), ('Matheus Ribeiro', 'Normal'), ('Camila Duarte', 'Sobrepeso'), ('Gabriel Monteiro', 'Normal'), ('Eduarda Farias', 'Normal'), ('Thiago Mendes', 'Normal')]\n"
          ]
        }
      ]
    },
    {
      "cell_type": "markdown",
      "source": [
        "# Desafio 6 - Classificando livros"
      ],
      "metadata": {
        "id": "giTyHtB66qYX"
      }
    },
    {
      "cell_type": "markdown",
      "source": [
        "Você é responsável pelo setor de tecnologia de uma biblioteca pública e está trabalhando em um sistema de categorização de livros com base no ano de publicação.\n",
        "\n",
        "*  Agora, você precisa classificar os livros em duas categorias:\n",
        "\n",
        "*  \"Clássico\": Livros publicados antes do ano 2000.\n",
        "\n",
        "*  \"Moderno\": Livros publicados no ano 2000 ou depois."
      ],
      "metadata": {
        "id": "9NxP6FDgqIPp"
      }
    },
    {
      "cell_type": "code",
      "source": [
        "livros = [\n",
        "    (\"Dom Quixote\", 1605),\n",
        "    (\"Orgulho e Preconceito\", 1813),\n",
        "    (\"O Grande Gatsby\", 1925),\n",
        "    (\"Cem Anos de Solidão\", 1967),\n",
        "    (\"1984\", 1949),\n",
        "    (\"Harry Potter e a Pedra Filosofal\", 1997),\n",
        "    (\"O Senhor dos Anéis\", 1954),\n",
        "    (\"A Revolução dos Bichos\", 1945),\n",
        "    (\"O Apanhador no Campo de Centeio\", 1951),\n",
        "    (\"O Código Da Vinci\", 2003),\n",
        "    (\"Jogos Vorazes\", 2008),\n",
        "    (\"A Culpa é das Estrelas\", 2012),\n",
        "    (\"Duna\", 1965),\n",
        "    (\"A Menina que Roubava Livros\", 2005),\n",
        "    (\"O Hobbit\", 1937),\n",
        "    (\"Moby Dick\", 1851),\n",
        "    (\"Drácula\", 1897),\n",
        "    (\"Frankenstein\", 1818),\n",
        "    (\"A Odisséia\", -800),  # Ano fictício para livros clássicos antigos\n",
        "    (\"Hamlet\", 1600),\n",
        "]"
      ],
      "metadata": {
        "id": "NDlXT_Ntqblb"
      },
      "execution_count": null,
      "outputs": []
    },
    {
      "cell_type": "code",
      "source": [
        "classificacao_livros = [ (livro[0],'Livro clássico') if livro[1] <= 2000 else (livro[0],'Livro moderno')for livro in livros ]\n",
        "print(classificacao_livros)"
      ],
      "metadata": {
        "colab": {
          "base_uri": "https://localhost:8080/"
        },
        "id": "3V--WJzHtQZr",
        "outputId": "58a6b284-5eaf-4d77-a495-f09d2d8cc2f7"
      },
      "execution_count": null,
      "outputs": [
        {
          "output_type": "stream",
          "name": "stdout",
          "text": [
            "[('Dom Quixote', 'Livro clássico'), ('Orgulho e Preconceito', 'Livro clássico'), ('O Grande Gatsby', 'Livro clássico'), ('Cem Anos de Solidão', 'Livro clássico'), ('1984', 'Livro clássico'), ('Harry Potter e a Pedra Filosofal', 'Livro clássico'), ('O Senhor dos Anéis', 'Livro clássico'), ('A Revolução dos Bichos', 'Livro clássico'), ('O Apanhador no Campo de Centeio', 'Livro clássico'), ('O Código Da Vinci', 'Livro moderno'), ('Jogos Vorazes', 'Livro moderno'), ('A Culpa é das Estrelas', 'Livro moderno'), ('Duna', 'Livro clássico'), ('A Menina que Roubava Livros', 'Livro moderno'), ('O Hobbit', 'Livro clássico'), ('Moby Dick', 'Livro clássico'), ('Drácula', 'Livro clássico'), ('Frankenstein', 'Livro clássico'), ('A Odisséia', 'Livro clássico'), ('Hamlet', 'Livro clássico')]\n"
          ]
        }
      ]
    },
    {
      "cell_type": "markdown",
      "source": [
        "# Desafio 7- Organizando livros em um dicionário"
      ],
      "metadata": {
        "id": "EL2KEQgn8OJ0"
      }
    },
    {
      "cell_type": "markdown",
      "source": [
        "Seu objetivo é criar um dicionário onde cada livro será representado por uma chave (o título do livro) e o valor será outro dicionário contendo as informações do autor e do ano de publicação. O dicionário final deve ter o seguinte formato:"
      ],
      "metadata": {
        "id": "Qatq9BvbvU50"
      }
    },
    {
      "cell_type": "code",
      "source": [
        "livros = [\n",
        "    (\"Dom Quixote\", \"Miguel de Cervantes\", 1605),\n",
        "    (\"Orgulho e Preconceito\", \"Jane Austen\", 1813),\n",
        "    (\"O Grande Gatsby\", \"F. Scott Fitzgerald\", 1925),\n",
        "    (\"Cem Anos de Solidão\", \"Gabriel García Márquez\", 1967),\n",
        "    (\"1984\", \"George Orwell\", 1949),\n",
        "    (\"Harry Potter e a Pedra Filosofal\", \"J.K. Rowling\", 1997),\n",
        "    (\"O Senhor dos Anéis\", \"J.R.R. Tolkien\", 1954),\n",
        "    (\"A Revolução dos Bichos\", \"George Orwell\", 1945),\n",
        "    (\"O Apanhador no Campo de Centeio\", \"J.D. Salinger\", 1951),\n",
        "    (\"O Código Da Vinci\", \"Dan Brown\", 2003),\n",
        "]"
      ],
      "metadata": {
        "id": "lBZhSKTXvSyr"
      },
      "execution_count": null,
      "outputs": []
    },
    {
      "cell_type": "code",
      "source": [
        "catalogo = {livro[0]:{'autor':livro[1],'ano':livro[2]} for livro in livros }\n",
        "print(catalogo)"
      ],
      "metadata": {
        "colab": {
          "base_uri": "https://localhost:8080/"
        },
        "id": "a5xWZ02Fvdii",
        "outputId": "c3801cd1-00db-4ded-b242-9bead535c572"
      },
      "execution_count": null,
      "outputs": [
        {
          "output_type": "stream",
          "name": "stdout",
          "text": [
            "{'Dom Quixote': {'autor': 'Miguel de Cervantes', 'ano': 1605}, 'Orgulho e Preconceito': {'autor': 'Jane Austen', 'ano': 1813}, 'O Grande Gatsby': {'autor': 'F. Scott Fitzgerald', 'ano': 1925}, 'Cem Anos de Solidão': {'autor': 'Gabriel García Márquez', 'ano': 1967}, '1984': {'autor': 'George Orwell', 'ano': 1949}, 'Harry Potter e a Pedra Filosofal': {'autor': 'J.K. Rowling', 'ano': 1997}, 'O Senhor dos Anéis': {'autor': 'J.R.R. Tolkien', 'ano': 1954}, 'A Revolução dos Bichos': {'autor': 'George Orwell', 'ano': 1945}, 'O Apanhador no Campo de Centeio': {'autor': 'J.D. Salinger', 'ano': 1951}, 'O Código Da Vinci': {'autor': 'Dan Brown', 'ano': 2003}}\n"
          ]
        }
      ]
    },
    {
      "cell_type": "markdown",
      "source": [
        "# Desafio 8-Coletando livros antigos"
      ],
      "metadata": {
        "id": "L-LXsj0Z8Yeg"
      }
    },
    {
      "cell_type": "markdown",
      "source": [
        "Crie um novo dicionário chamado livros_antigos contendo apenas os livros publicados antes do ano 1950. Utilize dict comprehension para realizar esta tarefa."
      ],
      "metadata": {
        "id": "iXalet_zzesz"
      }
    },
    {
      "cell_type": "code",
      "source": [
        "livros_antigos = { livro: dado for livro, dado in catalogo.items()  if dado['ano'] < 1950}\n",
        "print('Livros publicados antes de 1950')\n",
        "print(livros_antigos)"
      ],
      "metadata": {
        "colab": {
          "base_uri": "https://localhost:8080/"
        },
        "id": "b0VtYrLLzmpx",
        "outputId": "2cb8c9ff-5a53-4589-d8a1-fce3dec003b1"
      },
      "execution_count": null,
      "outputs": [
        {
          "output_type": "stream",
          "name": "stdout",
          "text": [
            "{'Dom Quixote': {'autor': 'Miguel de Cervantes', 'ano': 1605}, 'Orgulho e Preconceito': {'autor': 'Jane Austen', 'ano': 1813}, 'O Grande Gatsby': {'autor': 'F. Scott Fitzgerald', 'ano': 1925}, '1984': {'autor': 'George Orwell', 'ano': 1949}, 'A Revolução dos Bichos': {'autor': 'George Orwell', 'ano': 1945}}\n"
          ]
        }
      ]
    },
    {
      "cell_type": "markdown",
      "source": [
        "# Desafio 9 - Atualizando os anos dos livros"
      ],
      "metadata": {
        "id": "o7-QCHXp8gjA"
      }
    },
    {
      "cell_type": "markdown",
      "source": [
        "Você recebeu uma solicitação para atualizar o dicionário catalogo, pois agora todos os anos de publicação dos livros devem ser convertidos para o número de anos que se passaram desde o lançamento até o ano atual (2025)."
      ],
      "metadata": {
        "id": "aFmiZuIBY_K6"
      }
    },
    {
      "cell_type": "code",
      "source": [
        "livros_atualizados = {livro:{'autor':dado['autor'],'ano':2025-dado['ano']} for livro, dado in catalogo.items() }\n",
        "print('Livros com o ano atualizado')\n",
        "print(livros_atualizados)"
      ],
      "metadata": {
        "colab": {
          "base_uri": "https://localhost:8080/"
        },
        "id": "2qIDHPYnZDDQ",
        "outputId": "1156e25b-f57b-481c-c60f-b71afdd19be1"
      },
      "execution_count": null,
      "outputs": [
        {
          "output_type": "stream",
          "name": "stdout",
          "text": [
            "{'Dom Quixote': {'autor': 'Miguel de Cervantes', 'ano': 420}, 'Orgulho e Preconceito': {'autor': 'Jane Austen', 'ano': 212}, 'O Grande Gatsby': {'autor': 'F. Scott Fitzgerald', 'ano': 100}, 'Cem Anos de Solidão': {'autor': 'Gabriel García Márquez', 'ano': 58}, '1984': {'autor': 'George Orwell', 'ano': 76}, 'Harry Potter e a Pedra Filosofal': {'autor': 'J.K. Rowling', 'ano': 28}, 'O Senhor dos Anéis': {'autor': 'J.R.R. Tolkien', 'ano': 71}, 'A Revolução dos Bichos': {'autor': 'George Orwell', 'ano': 80}, 'O Apanhador no Campo de Centeio': {'autor': 'J.D. Salinger', 'ano': 74}, 'O Código Da Vinci': {'autor': 'Dan Brown', 'ano': 22}}\n"
          ]
        }
      ]
    },
    {
      "cell_type": "markdown",
      "source": [
        "# Desafio 10 - Classificando usuários com base na idade"
      ],
      "metadata": {
        "id": "Tj70jPdn8wrg"
      }
    },
    {
      "cell_type": "markdown",
      "source": [
        "Você trabalha como cientista de dados em uma empresa que armazena informações sobre seus usuários. Foi solicitado que você crie uma classificação simples dos usuários com base na idade. A classificação deve ser feita em duas categorias:\n",
        "\n",
        "* \"adulto\": Para usuários com 18 anos ou mais.\n",
        "\n",
        "* \"menor\": Para usuários com menos de 18 anos.\n",
        "\n",
        "Os dados dos usuários estão armazenados em um dicionário chamado usuarios, no seguinte formato:"
      ],
      "metadata": {
        "id": "XVWuyD3Fe7nA"
      }
    },
    {
      "cell_type": "code",
      "source": [
        "usuarios = {\n",
        "    \"João\": 25,\n",
        "    \"Maria\": 17,\n",
        "    \"Ana\": 19,\n",
        "    \"Carlos\": 16,\n",
        "    \"Beatriz\": 22,\n",
        "    \"Pedro\": 15,\n",
        "    \"Luiza\": 18\n",
        "}"
      ],
      "metadata": {
        "id": "n5vZn96gfE4f"
      },
      "execution_count": null,
      "outputs": []
    },
    {
      "cell_type": "code",
      "source": [
        "classificacao_idade = {nome : 'adulto' if idade >= 18 else 'menor' for nome, idade in usuarios.items() }\n",
        "print('Classificação das idades')\n",
        "print(classificacao_idade)"
      ],
      "metadata": {
        "colab": {
          "base_uri": "https://localhost:8080/"
        },
        "id": "c7hhyGhefKsQ",
        "outputId": "2e942a29-cf8f-445b-ce63-f7e1ab99baa4"
      },
      "execution_count": null,
      "outputs": [
        {
          "output_type": "stream",
          "name": "stdout",
          "text": [
            "Classificação das idades\n",
            "{'João': 'adulto', 'Maria': 'menor', 'Ana': 'adulto', 'Carlos': 'menor', 'Beatriz': 'adulto', 'Pedro': 'menor', 'Luiza': 'adulto'}\n"
          ]
        }
      ]
    }
  ]
}