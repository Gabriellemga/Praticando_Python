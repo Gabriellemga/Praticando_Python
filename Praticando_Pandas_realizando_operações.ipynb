{
  "nbformat": 4,
  "nbformat_minor": 0,
  "metadata": {
    "colab": {
      "provenance": [],
      "authorship_tag": "ABX9TyOLEF8gP0sFX6wovFs4JR+J",
      "include_colab_link": true
    },
    "kernelspec": {
      "name": "python3",
      "display_name": "Python 3"
    },
    "language_info": {
      "name": "python"
    }
  },
  "cells": [
    {
      "cell_type": "markdown",
      "metadata": {
        "id": "view-in-github",
        "colab_type": "text"
      },
      "source": [
        "<a href=\"https://colab.research.google.com/github/Gabriellemga/Python_Cursos_Alura/blob/main/Praticando_Python/Praticando_Pandas_realizando_opera%C3%A7%C3%B5es.ipynb\" target=\"_parent\"><img src=\"https://colab.research.google.com/assets/colab-badge.svg\" alt=\"Open In Colab\"/></a>"
      ]
    },
    {
      "cell_type": "markdown",
      "source": [
        "##Análise de dados de plantas"
      ],
      "metadata": {
        "id": "6WoobkBVtAIO"
      }
    },
    {
      "cell_type": "markdown",
      "source": [
        "Objetivo:\n",
        "\n",
        "1-Divida o DataFrame em dois subconjuntos:\n",
        "\n",
        "2-Um para plantas baixas (altura média menor ou igual a 15 metros).\n",
        "\n",
        "3-Outro para plantas altas (altura média maior que 15 metros).\n",
        "\n",
        "5-Para cada subconjunto, calcule a soma da coluna AlturaMedia."
      ],
      "metadata": {
        "id": "outhJfdA6owm"
      }
    },
    {
      "cell_type": "code",
      "execution_count": null,
      "metadata": {
        "colab": {
          "base_uri": "https://localhost:8080/",
          "height": 206
        },
        "id": "DbY-rFRhs6qd",
        "outputId": "db7c6c49-76c7-47d1-84c5-63d28f152631"
      },
      "outputs": [
        {
          "output_type": "execute_result",
          "data": {
            "text/plain": [
              "                  Especie Regiao  AlturaMedia\n",
              "0        Mangifera indica  Norte           15\n",
              "1     Eucalyptus globulus    Sul           30\n",
              "2         Pinus elliottii  Leste           25\n",
              "3  Anacardium occidentale  Norte           12\n",
              "4          Coffea arabica    Sul            3"
            ],
            "text/html": [
              "\n",
              "  <div id=\"df-99f76811-ffd2-44a8-8f0e-462b447becf8\" class=\"colab-df-container\">\n",
              "    <div>\n",
              "<style scoped>\n",
              "    .dataframe tbody tr th:only-of-type {\n",
              "        vertical-align: middle;\n",
              "    }\n",
              "\n",
              "    .dataframe tbody tr th {\n",
              "        vertical-align: top;\n",
              "    }\n",
              "\n",
              "    .dataframe thead th {\n",
              "        text-align: right;\n",
              "    }\n",
              "</style>\n",
              "<table border=\"1\" class=\"dataframe\">\n",
              "  <thead>\n",
              "    <tr style=\"text-align: right;\">\n",
              "      <th></th>\n",
              "      <th>Especie</th>\n",
              "      <th>Regiao</th>\n",
              "      <th>AlturaMedia</th>\n",
              "    </tr>\n",
              "  </thead>\n",
              "  <tbody>\n",
              "    <tr>\n",
              "      <th>0</th>\n",
              "      <td>Mangifera indica</td>\n",
              "      <td>Norte</td>\n",
              "      <td>15</td>\n",
              "    </tr>\n",
              "    <tr>\n",
              "      <th>1</th>\n",
              "      <td>Eucalyptus globulus</td>\n",
              "      <td>Sul</td>\n",
              "      <td>30</td>\n",
              "    </tr>\n",
              "    <tr>\n",
              "      <th>2</th>\n",
              "      <td>Pinus elliottii</td>\n",
              "      <td>Leste</td>\n",
              "      <td>25</td>\n",
              "    </tr>\n",
              "    <tr>\n",
              "      <th>3</th>\n",
              "      <td>Anacardium occidentale</td>\n",
              "      <td>Norte</td>\n",
              "      <td>12</td>\n",
              "    </tr>\n",
              "    <tr>\n",
              "      <th>4</th>\n",
              "      <td>Coffea arabica</td>\n",
              "      <td>Sul</td>\n",
              "      <td>3</td>\n",
              "    </tr>\n",
              "  </tbody>\n",
              "</table>\n",
              "</div>\n",
              "    <div class=\"colab-df-buttons\">\n",
              "\n",
              "  <div class=\"colab-df-container\">\n",
              "    <button class=\"colab-df-convert\" onclick=\"convertToInteractive('df-99f76811-ffd2-44a8-8f0e-462b447becf8')\"\n",
              "            title=\"Convert this dataframe to an interactive table.\"\n",
              "            style=\"display:none;\">\n",
              "\n",
              "  <svg xmlns=\"http://www.w3.org/2000/svg\" height=\"24px\" viewBox=\"0 -960 960 960\">\n",
              "    <path d=\"M120-120v-720h720v720H120Zm60-500h600v-160H180v160Zm220 220h160v-160H400v160Zm0 220h160v-160H400v160ZM180-400h160v-160H180v160Zm440 0h160v-160H620v160ZM180-180h160v-160H180v160Zm440 0h160v-160H620v160Z\"/>\n",
              "  </svg>\n",
              "    </button>\n",
              "\n",
              "  <style>\n",
              "    .colab-df-container {\n",
              "      display:flex;\n",
              "      gap: 12px;\n",
              "    }\n",
              "\n",
              "    .colab-df-convert {\n",
              "      background-color: #E8F0FE;\n",
              "      border: none;\n",
              "      border-radius: 50%;\n",
              "      cursor: pointer;\n",
              "      display: none;\n",
              "      fill: #1967D2;\n",
              "      height: 32px;\n",
              "      padding: 0 0 0 0;\n",
              "      width: 32px;\n",
              "    }\n",
              "\n",
              "    .colab-df-convert:hover {\n",
              "      background-color: #E2EBFA;\n",
              "      box-shadow: 0px 1px 2px rgba(60, 64, 67, 0.3), 0px 1px 3px 1px rgba(60, 64, 67, 0.15);\n",
              "      fill: #174EA6;\n",
              "    }\n",
              "\n",
              "    .colab-df-buttons div {\n",
              "      margin-bottom: 4px;\n",
              "    }\n",
              "\n",
              "    [theme=dark] .colab-df-convert {\n",
              "      background-color: #3B4455;\n",
              "      fill: #D2E3FC;\n",
              "    }\n",
              "\n",
              "    [theme=dark] .colab-df-convert:hover {\n",
              "      background-color: #434B5C;\n",
              "      box-shadow: 0px 1px 3px 1px rgba(0, 0, 0, 0.15);\n",
              "      filter: drop-shadow(0px 1px 2px rgba(0, 0, 0, 0.3));\n",
              "      fill: #FFFFFF;\n",
              "    }\n",
              "  </style>\n",
              "\n",
              "    <script>\n",
              "      const buttonEl =\n",
              "        document.querySelector('#df-99f76811-ffd2-44a8-8f0e-462b447becf8 button.colab-df-convert');\n",
              "      buttonEl.style.display =\n",
              "        google.colab.kernel.accessAllowed ? 'block' : 'none';\n",
              "\n",
              "      async function convertToInteractive(key) {\n",
              "        const element = document.querySelector('#df-99f76811-ffd2-44a8-8f0e-462b447becf8');\n",
              "        const dataTable =\n",
              "          await google.colab.kernel.invokeFunction('convertToInteractive',\n",
              "                                                    [key], {});\n",
              "        if (!dataTable) return;\n",
              "\n",
              "        const docLinkHtml = 'Like what you see? Visit the ' +\n",
              "          '<a target=\"_blank\" href=https://colab.research.google.com/notebooks/data_table.ipynb>data table notebook</a>'\n",
              "          + ' to learn more about interactive tables.';\n",
              "        element.innerHTML = '';\n",
              "        dataTable['output_type'] = 'display_data';\n",
              "        await google.colab.output.renderOutput(dataTable, element);\n",
              "        const docLink = document.createElement('div');\n",
              "        docLink.innerHTML = docLinkHtml;\n",
              "        element.appendChild(docLink);\n",
              "      }\n",
              "    </script>\n",
              "  </div>\n",
              "\n",
              "\n",
              "    <div id=\"df-99b741d5-6185-48ad-88d5-9b2664505ada\">\n",
              "      <button class=\"colab-df-quickchart\" onclick=\"quickchart('df-99b741d5-6185-48ad-88d5-9b2664505ada')\"\n",
              "                title=\"Suggest charts\"\n",
              "                style=\"display:none;\">\n",
              "\n",
              "<svg xmlns=\"http://www.w3.org/2000/svg\" height=\"24px\"viewBox=\"0 0 24 24\"\n",
              "     width=\"24px\">\n",
              "    <g>\n",
              "        <path d=\"M19 3H5c-1.1 0-2 .9-2 2v14c0 1.1.9 2 2 2h14c1.1 0 2-.9 2-2V5c0-1.1-.9-2-2-2zM9 17H7v-7h2v7zm4 0h-2V7h2v10zm4 0h-2v-4h2v4z\"/>\n",
              "    </g>\n",
              "</svg>\n",
              "      </button>\n",
              "\n",
              "<style>\n",
              "  .colab-df-quickchart {\n",
              "      --bg-color: #E8F0FE;\n",
              "      --fill-color: #1967D2;\n",
              "      --hover-bg-color: #E2EBFA;\n",
              "      --hover-fill-color: #174EA6;\n",
              "      --disabled-fill-color: #AAA;\n",
              "      --disabled-bg-color: #DDD;\n",
              "  }\n",
              "\n",
              "  [theme=dark] .colab-df-quickchart {\n",
              "      --bg-color: #3B4455;\n",
              "      --fill-color: #D2E3FC;\n",
              "      --hover-bg-color: #434B5C;\n",
              "      --hover-fill-color: #FFFFFF;\n",
              "      --disabled-bg-color: #3B4455;\n",
              "      --disabled-fill-color: #666;\n",
              "  }\n",
              "\n",
              "  .colab-df-quickchart {\n",
              "    background-color: var(--bg-color);\n",
              "    border: none;\n",
              "    border-radius: 50%;\n",
              "    cursor: pointer;\n",
              "    display: none;\n",
              "    fill: var(--fill-color);\n",
              "    height: 32px;\n",
              "    padding: 0;\n",
              "    width: 32px;\n",
              "  }\n",
              "\n",
              "  .colab-df-quickchart:hover {\n",
              "    background-color: var(--hover-bg-color);\n",
              "    box-shadow: 0 1px 2px rgba(60, 64, 67, 0.3), 0 1px 3px 1px rgba(60, 64, 67, 0.15);\n",
              "    fill: var(--button-hover-fill-color);\n",
              "  }\n",
              "\n",
              "  .colab-df-quickchart-complete:disabled,\n",
              "  .colab-df-quickchart-complete:disabled:hover {\n",
              "    background-color: var(--disabled-bg-color);\n",
              "    fill: var(--disabled-fill-color);\n",
              "    box-shadow: none;\n",
              "  }\n",
              "\n",
              "  .colab-df-spinner {\n",
              "    border: 2px solid var(--fill-color);\n",
              "    border-color: transparent;\n",
              "    border-bottom-color: var(--fill-color);\n",
              "    animation:\n",
              "      spin 1s steps(1) infinite;\n",
              "  }\n",
              "\n",
              "  @keyframes spin {\n",
              "    0% {\n",
              "      border-color: transparent;\n",
              "      border-bottom-color: var(--fill-color);\n",
              "      border-left-color: var(--fill-color);\n",
              "    }\n",
              "    20% {\n",
              "      border-color: transparent;\n",
              "      border-left-color: var(--fill-color);\n",
              "      border-top-color: var(--fill-color);\n",
              "    }\n",
              "    30% {\n",
              "      border-color: transparent;\n",
              "      border-left-color: var(--fill-color);\n",
              "      border-top-color: var(--fill-color);\n",
              "      border-right-color: var(--fill-color);\n",
              "    }\n",
              "    40% {\n",
              "      border-color: transparent;\n",
              "      border-right-color: var(--fill-color);\n",
              "      border-top-color: var(--fill-color);\n",
              "    }\n",
              "    60% {\n",
              "      border-color: transparent;\n",
              "      border-right-color: var(--fill-color);\n",
              "    }\n",
              "    80% {\n",
              "      border-color: transparent;\n",
              "      border-right-color: var(--fill-color);\n",
              "      border-bottom-color: var(--fill-color);\n",
              "    }\n",
              "    90% {\n",
              "      border-color: transparent;\n",
              "      border-bottom-color: var(--fill-color);\n",
              "    }\n",
              "  }\n",
              "</style>\n",
              "\n",
              "      <script>\n",
              "        async function quickchart(key) {\n",
              "          const quickchartButtonEl =\n",
              "            document.querySelector('#' + key + ' button');\n",
              "          quickchartButtonEl.disabled = true;  // To prevent multiple clicks.\n",
              "          quickchartButtonEl.classList.add('colab-df-spinner');\n",
              "          try {\n",
              "            const charts = await google.colab.kernel.invokeFunction(\n",
              "                'suggestCharts', [key], {});\n",
              "          } catch (error) {\n",
              "            console.error('Error during call to suggestCharts:', error);\n",
              "          }\n",
              "          quickchartButtonEl.classList.remove('colab-df-spinner');\n",
              "          quickchartButtonEl.classList.add('colab-df-quickchart-complete');\n",
              "        }\n",
              "        (() => {\n",
              "          let quickchartButtonEl =\n",
              "            document.querySelector('#df-99b741d5-6185-48ad-88d5-9b2664505ada button');\n",
              "          quickchartButtonEl.style.display =\n",
              "            google.colab.kernel.accessAllowed ? 'block' : 'none';\n",
              "        })();\n",
              "      </script>\n",
              "    </div>\n",
              "\n",
              "    </div>\n",
              "  </div>\n"
            ],
            "application/vnd.google.colaboratory.intrinsic+json": {
              "type": "dataframe",
              "variable_name": "df_plantas",
              "summary": "{\n  \"name\": \"df_plantas\",\n  \"rows\": 10,\n  \"fields\": [\n    {\n      \"column\": \"Especie\",\n      \"properties\": {\n        \"dtype\": \"string\",\n        \"num_unique_values\": 10,\n        \"samples\": [\n          \"Cocos nucifera\",\n          \"Eucalyptus globulus\",\n          \"Hevea brasiliensis\"\n        ],\n        \"semantic_type\": \"\",\n        \"description\": \"\"\n      }\n    },\n    {\n      \"column\": \"Regiao\",\n      \"properties\": {\n        \"dtype\": \"category\",\n        \"num_unique_values\": 4,\n        \"samples\": [\n          \"Sul\",\n          \"Oeste\",\n          \"Norte\"\n        ],\n        \"semantic_type\": \"\",\n        \"description\": \"\"\n      }\n    },\n    {\n      \"column\": \"AlturaMedia\",\n      \"properties\": {\n        \"dtype\": \"number\",\n        \"std\": 11,\n        \"min\": 3,\n        \"max\": 40,\n        \"num_unique_values\": 10,\n        \"samples\": [\n          18,\n          30,\n          20\n        ],\n        \"semantic_type\": \"\",\n        \"description\": \"\"\n      }\n    }\n  ]\n}"
            }
          },
          "metadata": {},
          "execution_count": 2
        }
      ],
      "source": [
        "import pandas as pd\n",
        "\n",
        "# Dados das plantas\n",
        "dados = {\n",
        "    'Especie': ['Mangifera indica', 'Eucalyptus globulus', 'Pinus elliottii', 'Anacardium occidentale',\n",
        "                'Coffea arabica', 'Hevea brasiliensis', 'Carica papaya', 'Theobroma cacao',\n",
        "                'Cocos nucifera', 'Bertholletia excelsa'],\n",
        "    'Regiao': ['Norte', 'Sul', 'Leste', 'Norte', 'Sul', 'Oeste', 'Leste', 'Norte', 'Oeste', 'Norte'],\n",
        "    'AlturaMedia': [15, 30, 25, 12, 3, 20, 5, 10, 18, 40]\n",
        "}\n",
        "\n",
        "# Criando o DataFrame\n",
        "df_plantas = pd.DataFrame(dados)\n",
        "df_plantas.head()"
      ]
    },
    {
      "cell_type": "code",
      "source": [
        "df_plantas_baixas = df_plantas[df_plantas['AlturaMedia'] <= 15]\n",
        "df_plantas_altas = df_plantas[df_plantas['AlturaMedia'] > 15]"
      ],
      "metadata": {
        "id": "32K2rTWEtnLX"
      },
      "execution_count": null,
      "outputs": []
    },
    {
      "cell_type": "code",
      "source": [
        "soma_plantas_baixas = df_plantas_baixas['AlturaMedia'].sum()"
      ],
      "metadata": {
        "id": "_Wze7dtHuVZd"
      },
      "execution_count": null,
      "outputs": []
    },
    {
      "cell_type": "code",
      "source": [
        "soma_plantas_altas = df_plantas_altas['AlturaMedia'].sum()"
      ],
      "metadata": {
        "id": "Uki0Y3p5uco0"
      },
      "execution_count": null,
      "outputs": []
    },
    {
      "cell_type": "code",
      "source": [
        "print(f'Plantas Baixas\\nSoma das alturas medias: {soma_plantas_baixas} m')\n",
        "print('-'*30)\n",
        "print(f'Plantas Altas\\nSoma das alturas medias: {soma_plantas_altas} m')\n",
        "print('-'*30)"
      ],
      "metadata": {
        "colab": {
          "base_uri": "https://localhost:8080/"
        },
        "id": "Bn3tUypdu0wG",
        "outputId": "f8212813-a253-44a0-d00c-c4f05742eb14"
      },
      "execution_count": null,
      "outputs": [
        {
          "output_type": "stream",
          "name": "stdout",
          "text": [
            "Plantas Baixas\n",
            "Soma das alturas medias: 45 m\n",
            "------------------------------\n",
            "Plantas Altas\n",
            "Soma das alturas medias: 133 m\n",
            "------------------------------\n"
          ]
        }
      ]
    },
    {
      "cell_type": "markdown",
      "source": [
        "Objetivo:\n",
        "\n",
        "1-Crie uma nova coluna chamada \"GrandePorte\" no DataFrame, que indique se a planta é de grande porte (altura média > 20 metros).\n",
        "\n",
        "2-Exiba as primeiras linhas do DataFrame com a nova coluna, incluindo apenas as colunas Especie, AlturaMedia e GrandePorte."
      ],
      "metadata": {
        "id": "Ow6owjIE6-mu"
      }
    },
    {
      "cell_type": "code",
      "source": [
        "df_plantas['Grande_Porte'] = df_plantas['AlturaMedia'].apply(lambda x: True if x > 20 else False)"
      ],
      "metadata": {
        "id": "P1PktNAY64Vd"
      },
      "execution_count": null,
      "outputs": []
    },
    {
      "cell_type": "code",
      "source": [
        "df_plantas[['Especie', 'AlturaMedia', 'Grande_Porte']].head()"
      ],
      "metadata": {
        "colab": {
          "base_uri": "https://localhost:8080/",
          "height": 206
        },
        "id": "nJQPrBgP8erv",
        "outputId": "df143858-a0b6-446b-ae74-f33639b24706"
      },
      "execution_count": null,
      "outputs": [
        {
          "output_type": "execute_result",
          "data": {
            "text/plain": [
              "                  Especie  AlturaMedia  Grande_Porte\n",
              "0        Mangifera indica           15         False\n",
              "1     Eucalyptus globulus           30          True\n",
              "2         Pinus elliottii           25          True\n",
              "3  Anacardium occidentale           12         False\n",
              "4          Coffea arabica            3         False"
            ],
            "text/html": [
              "\n",
              "  <div id=\"df-3ac7d33e-fa71-4791-8c67-5f7a4eb84c72\" class=\"colab-df-container\">\n",
              "    <div>\n",
              "<style scoped>\n",
              "    .dataframe tbody tr th:only-of-type {\n",
              "        vertical-align: middle;\n",
              "    }\n",
              "\n",
              "    .dataframe tbody tr th {\n",
              "        vertical-align: top;\n",
              "    }\n",
              "\n",
              "    .dataframe thead th {\n",
              "        text-align: right;\n",
              "    }\n",
              "</style>\n",
              "<table border=\"1\" class=\"dataframe\">\n",
              "  <thead>\n",
              "    <tr style=\"text-align: right;\">\n",
              "      <th></th>\n",
              "      <th>Especie</th>\n",
              "      <th>AlturaMedia</th>\n",
              "      <th>Grande_Porte</th>\n",
              "    </tr>\n",
              "  </thead>\n",
              "  <tbody>\n",
              "    <tr>\n",
              "      <th>0</th>\n",
              "      <td>Mangifera indica</td>\n",
              "      <td>15</td>\n",
              "      <td>False</td>\n",
              "    </tr>\n",
              "    <tr>\n",
              "      <th>1</th>\n",
              "      <td>Eucalyptus globulus</td>\n",
              "      <td>30</td>\n",
              "      <td>True</td>\n",
              "    </tr>\n",
              "    <tr>\n",
              "      <th>2</th>\n",
              "      <td>Pinus elliottii</td>\n",
              "      <td>25</td>\n",
              "      <td>True</td>\n",
              "    </tr>\n",
              "    <tr>\n",
              "      <th>3</th>\n",
              "      <td>Anacardium occidentale</td>\n",
              "      <td>12</td>\n",
              "      <td>False</td>\n",
              "    </tr>\n",
              "    <tr>\n",
              "      <th>4</th>\n",
              "      <td>Coffea arabica</td>\n",
              "      <td>3</td>\n",
              "      <td>False</td>\n",
              "    </tr>\n",
              "  </tbody>\n",
              "</table>\n",
              "</div>\n",
              "    <div class=\"colab-df-buttons\">\n",
              "\n",
              "  <div class=\"colab-df-container\">\n",
              "    <button class=\"colab-df-convert\" onclick=\"convertToInteractive('df-3ac7d33e-fa71-4791-8c67-5f7a4eb84c72')\"\n",
              "            title=\"Convert this dataframe to an interactive table.\"\n",
              "            style=\"display:none;\">\n",
              "\n",
              "  <svg xmlns=\"http://www.w3.org/2000/svg\" height=\"24px\" viewBox=\"0 -960 960 960\">\n",
              "    <path d=\"M120-120v-720h720v720H120Zm60-500h600v-160H180v160Zm220 220h160v-160H400v160Zm0 220h160v-160H400v160ZM180-400h160v-160H180v160Zm440 0h160v-160H620v160ZM180-180h160v-160H180v160Zm440 0h160v-160H620v160Z\"/>\n",
              "  </svg>\n",
              "    </button>\n",
              "\n",
              "  <style>\n",
              "    .colab-df-container {\n",
              "      display:flex;\n",
              "      gap: 12px;\n",
              "    }\n",
              "\n",
              "    .colab-df-convert {\n",
              "      background-color: #E8F0FE;\n",
              "      border: none;\n",
              "      border-radius: 50%;\n",
              "      cursor: pointer;\n",
              "      display: none;\n",
              "      fill: #1967D2;\n",
              "      height: 32px;\n",
              "      padding: 0 0 0 0;\n",
              "      width: 32px;\n",
              "    }\n",
              "\n",
              "    .colab-df-convert:hover {\n",
              "      background-color: #E2EBFA;\n",
              "      box-shadow: 0px 1px 2px rgba(60, 64, 67, 0.3), 0px 1px 3px 1px rgba(60, 64, 67, 0.15);\n",
              "      fill: #174EA6;\n",
              "    }\n",
              "\n",
              "    .colab-df-buttons div {\n",
              "      margin-bottom: 4px;\n",
              "    }\n",
              "\n",
              "    [theme=dark] .colab-df-convert {\n",
              "      background-color: #3B4455;\n",
              "      fill: #D2E3FC;\n",
              "    }\n",
              "\n",
              "    [theme=dark] .colab-df-convert:hover {\n",
              "      background-color: #434B5C;\n",
              "      box-shadow: 0px 1px 3px 1px rgba(0, 0, 0, 0.15);\n",
              "      filter: drop-shadow(0px 1px 2px rgba(0, 0, 0, 0.3));\n",
              "      fill: #FFFFFF;\n",
              "    }\n",
              "  </style>\n",
              "\n",
              "    <script>\n",
              "      const buttonEl =\n",
              "        document.querySelector('#df-3ac7d33e-fa71-4791-8c67-5f7a4eb84c72 button.colab-df-convert');\n",
              "      buttonEl.style.display =\n",
              "        google.colab.kernel.accessAllowed ? 'block' : 'none';\n",
              "\n",
              "      async function convertToInteractive(key) {\n",
              "        const element = document.querySelector('#df-3ac7d33e-fa71-4791-8c67-5f7a4eb84c72');\n",
              "        const dataTable =\n",
              "          await google.colab.kernel.invokeFunction('convertToInteractive',\n",
              "                                                    [key], {});\n",
              "        if (!dataTable) return;\n",
              "\n",
              "        const docLinkHtml = 'Like what you see? Visit the ' +\n",
              "          '<a target=\"_blank\" href=https://colab.research.google.com/notebooks/data_table.ipynb>data table notebook</a>'\n",
              "          + ' to learn more about interactive tables.';\n",
              "        element.innerHTML = '';\n",
              "        dataTable['output_type'] = 'display_data';\n",
              "        await google.colab.output.renderOutput(dataTable, element);\n",
              "        const docLink = document.createElement('div');\n",
              "        docLink.innerHTML = docLinkHtml;\n",
              "        element.appendChild(docLink);\n",
              "      }\n",
              "    </script>\n",
              "  </div>\n",
              "\n",
              "\n",
              "    <div id=\"df-ee8715f8-c753-44ec-8ca4-3ad182a5be19\">\n",
              "      <button class=\"colab-df-quickchart\" onclick=\"quickchart('df-ee8715f8-c753-44ec-8ca4-3ad182a5be19')\"\n",
              "                title=\"Suggest charts\"\n",
              "                style=\"display:none;\">\n",
              "\n",
              "<svg xmlns=\"http://www.w3.org/2000/svg\" height=\"24px\"viewBox=\"0 0 24 24\"\n",
              "     width=\"24px\">\n",
              "    <g>\n",
              "        <path d=\"M19 3H5c-1.1 0-2 .9-2 2v14c0 1.1.9 2 2 2h14c1.1 0 2-.9 2-2V5c0-1.1-.9-2-2-2zM9 17H7v-7h2v7zm4 0h-2V7h2v10zm4 0h-2v-4h2v4z\"/>\n",
              "    </g>\n",
              "</svg>\n",
              "      </button>\n",
              "\n",
              "<style>\n",
              "  .colab-df-quickchart {\n",
              "      --bg-color: #E8F0FE;\n",
              "      --fill-color: #1967D2;\n",
              "      --hover-bg-color: #E2EBFA;\n",
              "      --hover-fill-color: #174EA6;\n",
              "      --disabled-fill-color: #AAA;\n",
              "      --disabled-bg-color: #DDD;\n",
              "  }\n",
              "\n",
              "  [theme=dark] .colab-df-quickchart {\n",
              "      --bg-color: #3B4455;\n",
              "      --fill-color: #D2E3FC;\n",
              "      --hover-bg-color: #434B5C;\n",
              "      --hover-fill-color: #FFFFFF;\n",
              "      --disabled-bg-color: #3B4455;\n",
              "      --disabled-fill-color: #666;\n",
              "  }\n",
              "\n",
              "  .colab-df-quickchart {\n",
              "    background-color: var(--bg-color);\n",
              "    border: none;\n",
              "    border-radius: 50%;\n",
              "    cursor: pointer;\n",
              "    display: none;\n",
              "    fill: var(--fill-color);\n",
              "    height: 32px;\n",
              "    padding: 0;\n",
              "    width: 32px;\n",
              "  }\n",
              "\n",
              "  .colab-df-quickchart:hover {\n",
              "    background-color: var(--hover-bg-color);\n",
              "    box-shadow: 0 1px 2px rgba(60, 64, 67, 0.3), 0 1px 3px 1px rgba(60, 64, 67, 0.15);\n",
              "    fill: var(--button-hover-fill-color);\n",
              "  }\n",
              "\n",
              "  .colab-df-quickchart-complete:disabled,\n",
              "  .colab-df-quickchart-complete:disabled:hover {\n",
              "    background-color: var(--disabled-bg-color);\n",
              "    fill: var(--disabled-fill-color);\n",
              "    box-shadow: none;\n",
              "  }\n",
              "\n",
              "  .colab-df-spinner {\n",
              "    border: 2px solid var(--fill-color);\n",
              "    border-color: transparent;\n",
              "    border-bottom-color: var(--fill-color);\n",
              "    animation:\n",
              "      spin 1s steps(1) infinite;\n",
              "  }\n",
              "\n",
              "  @keyframes spin {\n",
              "    0% {\n",
              "      border-color: transparent;\n",
              "      border-bottom-color: var(--fill-color);\n",
              "      border-left-color: var(--fill-color);\n",
              "    }\n",
              "    20% {\n",
              "      border-color: transparent;\n",
              "      border-left-color: var(--fill-color);\n",
              "      border-top-color: var(--fill-color);\n",
              "    }\n",
              "    30% {\n",
              "      border-color: transparent;\n",
              "      border-left-color: var(--fill-color);\n",
              "      border-top-color: var(--fill-color);\n",
              "      border-right-color: var(--fill-color);\n",
              "    }\n",
              "    40% {\n",
              "      border-color: transparent;\n",
              "      border-right-color: var(--fill-color);\n",
              "      border-top-color: var(--fill-color);\n",
              "    }\n",
              "    60% {\n",
              "      border-color: transparent;\n",
              "      border-right-color: var(--fill-color);\n",
              "    }\n",
              "    80% {\n",
              "      border-color: transparent;\n",
              "      border-right-color: var(--fill-color);\n",
              "      border-bottom-color: var(--fill-color);\n",
              "    }\n",
              "    90% {\n",
              "      border-color: transparent;\n",
              "      border-bottom-color: var(--fill-color);\n",
              "    }\n",
              "  }\n",
              "</style>\n",
              "\n",
              "      <script>\n",
              "        async function quickchart(key) {\n",
              "          const quickchartButtonEl =\n",
              "            document.querySelector('#' + key + ' button');\n",
              "          quickchartButtonEl.disabled = true;  // To prevent multiple clicks.\n",
              "          quickchartButtonEl.classList.add('colab-df-spinner');\n",
              "          try {\n",
              "            const charts = await google.colab.kernel.invokeFunction(\n",
              "                'suggestCharts', [key], {});\n",
              "          } catch (error) {\n",
              "            console.error('Error during call to suggestCharts:', error);\n",
              "          }\n",
              "          quickchartButtonEl.classList.remove('colab-df-spinner');\n",
              "          quickchartButtonEl.classList.add('colab-df-quickchart-complete');\n",
              "        }\n",
              "        (() => {\n",
              "          let quickchartButtonEl =\n",
              "            document.querySelector('#df-ee8715f8-c753-44ec-8ca4-3ad182a5be19 button');\n",
              "          quickchartButtonEl.style.display =\n",
              "            google.colab.kernel.accessAllowed ? 'block' : 'none';\n",
              "        })();\n",
              "      </script>\n",
              "    </div>\n",
              "\n",
              "    </div>\n",
              "  </div>\n"
            ],
            "application/vnd.google.colaboratory.intrinsic+json": {
              "type": "dataframe",
              "summary": "{\n  \"name\": \"df_plantas[['Especie', 'AlturaMedia', 'Grande_Porte']]\",\n  \"rows\": 5,\n  \"fields\": [\n    {\n      \"column\": \"Especie\",\n      \"properties\": {\n        \"dtype\": \"string\",\n        \"num_unique_values\": 5,\n        \"samples\": [\n          \"Eucalyptus globulus\",\n          \"Coffea arabica\",\n          \"Pinus elliottii\"\n        ],\n        \"semantic_type\": \"\",\n        \"description\": \"\"\n      }\n    },\n    {\n      \"column\": \"AlturaMedia\",\n      \"properties\": {\n        \"dtype\": \"number\",\n        \"std\": 10,\n        \"min\": 3,\n        \"max\": 30,\n        \"num_unique_values\": 5,\n        \"samples\": [\n          30,\n          3,\n          25\n        ],\n        \"semantic_type\": \"\",\n        \"description\": \"\"\n      }\n    },\n    {\n      \"column\": \"Grande_Porte\",\n      \"properties\": {\n        \"dtype\": \"boolean\",\n        \"num_unique_values\": 2,\n        \"samples\": [\n          true,\n          false\n        ],\n        \"semantic_type\": \"\",\n        \"description\": \"\"\n      }\n    }\n  ]\n}"
            }
          },
          "metadata": {},
          "execution_count": 8
        }
      ]
    },
    {
      "cell_type": "markdown",
      "source": [
        "Objetivo:\n",
        "\n",
        "1 - Calcule a maior altura média no DataFrame.\n",
        "\n",
        "2 - Crie uma nova coluna chamada IndiceAlturaRelativa, calculada como:\n",
        "\n",
        "Fórmula: Índice de Altura Relativa = Altura Média / Maior Altura Média.\n",
        "\n",
        "3 - Exiba as colunas Especie, AlturaMedia e IndiceAlturaRelativa."
      ],
      "metadata": {
        "id": "PmvRwgcLDXYg"
      }
    },
    {
      "cell_type": "code",
      "source": [
        "maior_altura = df_plantas['AlturaMedia'].max()"
      ],
      "metadata": {
        "id": "hY5l-TVVDc96"
      },
      "execution_count": null,
      "outputs": []
    },
    {
      "cell_type": "code",
      "source": [
        "df_plantas['IndiceAlturaRelativa'] = df_plantas['AlturaMedia']/maior_altura"
      ],
      "metadata": {
        "id": "fzLsAzvZUaJO"
      },
      "execution_count": null,
      "outputs": []
    },
    {
      "cell_type": "code",
      "source": [
        "print(df_plantas[['Especie', 'AlturaMedia', 'IndiceAlturaRelativa']])"
      ],
      "metadata": {
        "colab": {
          "base_uri": "https://localhost:8080/"
        },
        "id": "OhSAWNmsU6G2",
        "outputId": "08a0bba4-c329-4f0a-9d14-70ca8a525f15"
      },
      "execution_count": null,
      "outputs": [
        {
          "output_type": "stream",
          "name": "stdout",
          "text": [
            "                  Especie  AlturaMedia  IndiceAlturaRelativa\n",
            "0        Mangifera indica           15                 0.375\n",
            "1     Eucalyptus globulus           30                 0.750\n",
            "2         Pinus elliottii           25                 0.625\n",
            "3  Anacardium occidentale           12                 0.300\n",
            "4          Coffea arabica            3                 0.075\n",
            "5      Hevea brasiliensis           20                 0.500\n",
            "6           Carica papaya            5                 0.125\n",
            "7         Theobroma cacao           10                 0.250\n",
            "8          Cocos nucifera           18                 0.450\n",
            "9    Bertholletia excelsa           40                 1.000\n"
          ]
        }
      ]
    },
    {
      "cell_type": "markdown",
      "source": [
        "##Calculando o ticket médio por cliente"
      ],
      "metadata": {
        "id": "_3o16EJyWEEE"
      }
    },
    {
      "cell_type": "markdown",
      "source": [
        "Objetivo:\n",
        "\n",
        "1 - Crie a nova coluna TicketMedio como:\n",
        "\n",
        "Fórmula para calcular o Ticket Médio: Ticket Médio = Valor Total / Quantidade de Itens.\n",
        "\n",
        "2 - Exiba as colunas PedidoID, Cliente, ValorTotal, QuantidadeItens e TicketMedio."
      ],
      "metadata": {
        "id": "kFQM91zdWIos"
      }
    },
    {
      "cell_type": "code",
      "source": [
        "import pandas as pd\n",
        "\n",
        "# Dados das vendas\n",
        "dados = {\n",
        "    'PedidoID': [101, 102, 103, 104, 105],\n",
        "    'Cliente': ['Alice', 'Bruno', 'Carla', 'Daniel', 'Eduarda'],\n",
        "    'ValorTotal': [150.00, 200.00, 300.00, 120.00, 500.00],\n",
        "    'QuantidadeItens': [3, 4, 6, 2, 10]\n",
        "}\n",
        "\n",
        "# Criando o DataFrame\n",
        "df_vendas = pd.DataFrame(dados)\n",
        "df_vendas.head()"
      ],
      "metadata": {
        "colab": {
          "base_uri": "https://localhost:8080/",
          "height": 206
        },
        "id": "HePnjRQaWTv0",
        "outputId": "475b04be-f05a-4a6e-a609-2e9379a0b2e4"
      },
      "execution_count": null,
      "outputs": [
        {
          "output_type": "execute_result",
          "data": {
            "text/plain": [
              "   PedidoID  Cliente  ValorTotal  QuantidadeItens\n",
              "0       101    Alice       150.0                3\n",
              "1       102    Bruno       200.0                4\n",
              "2       103    Carla       300.0                6\n",
              "3       104   Daniel       120.0                2\n",
              "4       105  Eduarda       500.0               10"
            ],
            "text/html": [
              "\n",
              "  <div id=\"df-c9c2226b-9870-49d4-9bc3-11e515737287\" class=\"colab-df-container\">\n",
              "    <div>\n",
              "<style scoped>\n",
              "    .dataframe tbody tr th:only-of-type {\n",
              "        vertical-align: middle;\n",
              "    }\n",
              "\n",
              "    .dataframe tbody tr th {\n",
              "        vertical-align: top;\n",
              "    }\n",
              "\n",
              "    .dataframe thead th {\n",
              "        text-align: right;\n",
              "    }\n",
              "</style>\n",
              "<table border=\"1\" class=\"dataframe\">\n",
              "  <thead>\n",
              "    <tr style=\"text-align: right;\">\n",
              "      <th></th>\n",
              "      <th>PedidoID</th>\n",
              "      <th>Cliente</th>\n",
              "      <th>ValorTotal</th>\n",
              "      <th>QuantidadeItens</th>\n",
              "    </tr>\n",
              "  </thead>\n",
              "  <tbody>\n",
              "    <tr>\n",
              "      <th>0</th>\n",
              "      <td>101</td>\n",
              "      <td>Alice</td>\n",
              "      <td>150.0</td>\n",
              "      <td>3</td>\n",
              "    </tr>\n",
              "    <tr>\n",
              "      <th>1</th>\n",
              "      <td>102</td>\n",
              "      <td>Bruno</td>\n",
              "      <td>200.0</td>\n",
              "      <td>4</td>\n",
              "    </tr>\n",
              "    <tr>\n",
              "      <th>2</th>\n",
              "      <td>103</td>\n",
              "      <td>Carla</td>\n",
              "      <td>300.0</td>\n",
              "      <td>6</td>\n",
              "    </tr>\n",
              "    <tr>\n",
              "      <th>3</th>\n",
              "      <td>104</td>\n",
              "      <td>Daniel</td>\n",
              "      <td>120.0</td>\n",
              "      <td>2</td>\n",
              "    </tr>\n",
              "    <tr>\n",
              "      <th>4</th>\n",
              "      <td>105</td>\n",
              "      <td>Eduarda</td>\n",
              "      <td>500.0</td>\n",
              "      <td>10</td>\n",
              "    </tr>\n",
              "  </tbody>\n",
              "</table>\n",
              "</div>\n",
              "    <div class=\"colab-df-buttons\">\n",
              "\n",
              "  <div class=\"colab-df-container\">\n",
              "    <button class=\"colab-df-convert\" onclick=\"convertToInteractive('df-c9c2226b-9870-49d4-9bc3-11e515737287')\"\n",
              "            title=\"Convert this dataframe to an interactive table.\"\n",
              "            style=\"display:none;\">\n",
              "\n",
              "  <svg xmlns=\"http://www.w3.org/2000/svg\" height=\"24px\" viewBox=\"0 -960 960 960\">\n",
              "    <path d=\"M120-120v-720h720v720H120Zm60-500h600v-160H180v160Zm220 220h160v-160H400v160Zm0 220h160v-160H400v160ZM180-400h160v-160H180v160Zm440 0h160v-160H620v160ZM180-180h160v-160H180v160Zm440 0h160v-160H620v160Z\"/>\n",
              "  </svg>\n",
              "    </button>\n",
              "\n",
              "  <style>\n",
              "    .colab-df-container {\n",
              "      display:flex;\n",
              "      gap: 12px;\n",
              "    }\n",
              "\n",
              "    .colab-df-convert {\n",
              "      background-color: #E8F0FE;\n",
              "      border: none;\n",
              "      border-radius: 50%;\n",
              "      cursor: pointer;\n",
              "      display: none;\n",
              "      fill: #1967D2;\n",
              "      height: 32px;\n",
              "      padding: 0 0 0 0;\n",
              "      width: 32px;\n",
              "    }\n",
              "\n",
              "    .colab-df-convert:hover {\n",
              "      background-color: #E2EBFA;\n",
              "      box-shadow: 0px 1px 2px rgba(60, 64, 67, 0.3), 0px 1px 3px 1px rgba(60, 64, 67, 0.15);\n",
              "      fill: #174EA6;\n",
              "    }\n",
              "\n",
              "    .colab-df-buttons div {\n",
              "      margin-bottom: 4px;\n",
              "    }\n",
              "\n",
              "    [theme=dark] .colab-df-convert {\n",
              "      background-color: #3B4455;\n",
              "      fill: #D2E3FC;\n",
              "    }\n",
              "\n",
              "    [theme=dark] .colab-df-convert:hover {\n",
              "      background-color: #434B5C;\n",
              "      box-shadow: 0px 1px 3px 1px rgba(0, 0, 0, 0.15);\n",
              "      filter: drop-shadow(0px 1px 2px rgba(0, 0, 0, 0.3));\n",
              "      fill: #FFFFFF;\n",
              "    }\n",
              "  </style>\n",
              "\n",
              "    <script>\n",
              "      const buttonEl =\n",
              "        document.querySelector('#df-c9c2226b-9870-49d4-9bc3-11e515737287 button.colab-df-convert');\n",
              "      buttonEl.style.display =\n",
              "        google.colab.kernel.accessAllowed ? 'block' : 'none';\n",
              "\n",
              "      async function convertToInteractive(key) {\n",
              "        const element = document.querySelector('#df-c9c2226b-9870-49d4-9bc3-11e515737287');\n",
              "        const dataTable =\n",
              "          await google.colab.kernel.invokeFunction('convertToInteractive',\n",
              "                                                    [key], {});\n",
              "        if (!dataTable) return;\n",
              "\n",
              "        const docLinkHtml = 'Like what you see? Visit the ' +\n",
              "          '<a target=\"_blank\" href=https://colab.research.google.com/notebooks/data_table.ipynb>data table notebook</a>'\n",
              "          + ' to learn more about interactive tables.';\n",
              "        element.innerHTML = '';\n",
              "        dataTable['output_type'] = 'display_data';\n",
              "        await google.colab.output.renderOutput(dataTable, element);\n",
              "        const docLink = document.createElement('div');\n",
              "        docLink.innerHTML = docLinkHtml;\n",
              "        element.appendChild(docLink);\n",
              "      }\n",
              "    </script>\n",
              "  </div>\n",
              "\n",
              "\n",
              "    <div id=\"df-2fdb433d-2ceb-40aa-8df4-946e595e4641\">\n",
              "      <button class=\"colab-df-quickchart\" onclick=\"quickchart('df-2fdb433d-2ceb-40aa-8df4-946e595e4641')\"\n",
              "                title=\"Suggest charts\"\n",
              "                style=\"display:none;\">\n",
              "\n",
              "<svg xmlns=\"http://www.w3.org/2000/svg\" height=\"24px\"viewBox=\"0 0 24 24\"\n",
              "     width=\"24px\">\n",
              "    <g>\n",
              "        <path d=\"M19 3H5c-1.1 0-2 .9-2 2v14c0 1.1.9 2 2 2h14c1.1 0 2-.9 2-2V5c0-1.1-.9-2-2-2zM9 17H7v-7h2v7zm4 0h-2V7h2v10zm4 0h-2v-4h2v4z\"/>\n",
              "    </g>\n",
              "</svg>\n",
              "      </button>\n",
              "\n",
              "<style>\n",
              "  .colab-df-quickchart {\n",
              "      --bg-color: #E8F0FE;\n",
              "      --fill-color: #1967D2;\n",
              "      --hover-bg-color: #E2EBFA;\n",
              "      --hover-fill-color: #174EA6;\n",
              "      --disabled-fill-color: #AAA;\n",
              "      --disabled-bg-color: #DDD;\n",
              "  }\n",
              "\n",
              "  [theme=dark] .colab-df-quickchart {\n",
              "      --bg-color: #3B4455;\n",
              "      --fill-color: #D2E3FC;\n",
              "      --hover-bg-color: #434B5C;\n",
              "      --hover-fill-color: #FFFFFF;\n",
              "      --disabled-bg-color: #3B4455;\n",
              "      --disabled-fill-color: #666;\n",
              "  }\n",
              "\n",
              "  .colab-df-quickchart {\n",
              "    background-color: var(--bg-color);\n",
              "    border: none;\n",
              "    border-radius: 50%;\n",
              "    cursor: pointer;\n",
              "    display: none;\n",
              "    fill: var(--fill-color);\n",
              "    height: 32px;\n",
              "    padding: 0;\n",
              "    width: 32px;\n",
              "  }\n",
              "\n",
              "  .colab-df-quickchart:hover {\n",
              "    background-color: var(--hover-bg-color);\n",
              "    box-shadow: 0 1px 2px rgba(60, 64, 67, 0.3), 0 1px 3px 1px rgba(60, 64, 67, 0.15);\n",
              "    fill: var(--button-hover-fill-color);\n",
              "  }\n",
              "\n",
              "  .colab-df-quickchart-complete:disabled,\n",
              "  .colab-df-quickchart-complete:disabled:hover {\n",
              "    background-color: var(--disabled-bg-color);\n",
              "    fill: var(--disabled-fill-color);\n",
              "    box-shadow: none;\n",
              "  }\n",
              "\n",
              "  .colab-df-spinner {\n",
              "    border: 2px solid var(--fill-color);\n",
              "    border-color: transparent;\n",
              "    border-bottom-color: var(--fill-color);\n",
              "    animation:\n",
              "      spin 1s steps(1) infinite;\n",
              "  }\n",
              "\n",
              "  @keyframes spin {\n",
              "    0% {\n",
              "      border-color: transparent;\n",
              "      border-bottom-color: var(--fill-color);\n",
              "      border-left-color: var(--fill-color);\n",
              "    }\n",
              "    20% {\n",
              "      border-color: transparent;\n",
              "      border-left-color: var(--fill-color);\n",
              "      border-top-color: var(--fill-color);\n",
              "    }\n",
              "    30% {\n",
              "      border-color: transparent;\n",
              "      border-left-color: var(--fill-color);\n",
              "      border-top-color: var(--fill-color);\n",
              "      border-right-color: var(--fill-color);\n",
              "    }\n",
              "    40% {\n",
              "      border-color: transparent;\n",
              "      border-right-color: var(--fill-color);\n",
              "      border-top-color: var(--fill-color);\n",
              "    }\n",
              "    60% {\n",
              "      border-color: transparent;\n",
              "      border-right-color: var(--fill-color);\n",
              "    }\n",
              "    80% {\n",
              "      border-color: transparent;\n",
              "      border-right-color: var(--fill-color);\n",
              "      border-bottom-color: var(--fill-color);\n",
              "    }\n",
              "    90% {\n",
              "      border-color: transparent;\n",
              "      border-bottom-color: var(--fill-color);\n",
              "    }\n",
              "  }\n",
              "</style>\n",
              "\n",
              "      <script>\n",
              "        async function quickchart(key) {\n",
              "          const quickchartButtonEl =\n",
              "            document.querySelector('#' + key + ' button');\n",
              "          quickchartButtonEl.disabled = true;  // To prevent multiple clicks.\n",
              "          quickchartButtonEl.classList.add('colab-df-spinner');\n",
              "          try {\n",
              "            const charts = await google.colab.kernel.invokeFunction(\n",
              "                'suggestCharts', [key], {});\n",
              "          } catch (error) {\n",
              "            console.error('Error during call to suggestCharts:', error);\n",
              "          }\n",
              "          quickchartButtonEl.classList.remove('colab-df-spinner');\n",
              "          quickchartButtonEl.classList.add('colab-df-quickchart-complete');\n",
              "        }\n",
              "        (() => {\n",
              "          let quickchartButtonEl =\n",
              "            document.querySelector('#df-2fdb433d-2ceb-40aa-8df4-946e595e4641 button');\n",
              "          quickchartButtonEl.style.display =\n",
              "            google.colab.kernel.accessAllowed ? 'block' : 'none';\n",
              "        })();\n",
              "      </script>\n",
              "    </div>\n",
              "\n",
              "    </div>\n",
              "  </div>\n"
            ],
            "application/vnd.google.colaboratory.intrinsic+json": {
              "type": "dataframe",
              "variable_name": "df_vendas",
              "summary": "{\n  \"name\": \"df_vendas\",\n  \"rows\": 5,\n  \"fields\": [\n    {\n      \"column\": \"PedidoID\",\n      \"properties\": {\n        \"dtype\": \"number\",\n        \"std\": 1,\n        \"min\": 101,\n        \"max\": 105,\n        \"num_unique_values\": 5,\n        \"samples\": [\n          102,\n          105,\n          103\n        ],\n        \"semantic_type\": \"\",\n        \"description\": \"\"\n      }\n    },\n    {\n      \"column\": \"Cliente\",\n      \"properties\": {\n        \"dtype\": \"string\",\n        \"num_unique_values\": 5,\n        \"samples\": [\n          \"Bruno\",\n          \"Eduarda\",\n          \"Carla\"\n        ],\n        \"semantic_type\": \"\",\n        \"description\": \"\"\n      }\n    },\n    {\n      \"column\": \"ValorTotal\",\n      \"properties\": {\n        \"dtype\": \"number\",\n        \"std\": 153.55780670483674,\n        \"min\": 120.0,\n        \"max\": 500.0,\n        \"num_unique_values\": 5,\n        \"samples\": [\n          200.0,\n          500.0,\n          300.0\n        ],\n        \"semantic_type\": \"\",\n        \"description\": \"\"\n      }\n    },\n    {\n      \"column\": \"QuantidadeItens\",\n      \"properties\": {\n        \"dtype\": \"number\",\n        \"std\": 3,\n        \"min\": 2,\n        \"max\": 10,\n        \"num_unique_values\": 5,\n        \"samples\": [\n          4,\n          10,\n          6\n        ],\n        \"semantic_type\": \"\",\n        \"description\": \"\"\n      }\n    }\n  ]\n}"
            }
          },
          "metadata": {},
          "execution_count": 15
        }
      ]
    },
    {
      "cell_type": "code",
      "source": [
        "df_vendas['TicketMedio'] = df_vendas['ValorTotal']/df_vendas['QuantidadeItens']"
      ],
      "metadata": {
        "id": "jDm3T77yWZC7"
      },
      "execution_count": null,
      "outputs": []
    },
    {
      "cell_type": "code",
      "source": [
        "print(df_vendas[['PedidoID', 'Cliente', 'ValorTotal', 'QuantidadeItens', 'TicketMedio']])"
      ],
      "metadata": {
        "colab": {
          "base_uri": "https://localhost:8080/"
        },
        "id": "1g_5-1IQXOfl",
        "outputId": "d7d3ed30-a1cc-403a-ee8a-b0ec6846db47"
      },
      "execution_count": null,
      "outputs": [
        {
          "output_type": "stream",
          "name": "stdout",
          "text": [
            "   PedidoID  Cliente  ValorTotal  QuantidadeItens  TicketMedio\n",
            "0       101    Alice       150.0                3         50.0\n",
            "1       102    Bruno       200.0                4         50.0\n",
            "2       103    Carla       300.0                6         50.0\n",
            "3       104   Daniel       120.0                2         60.0\n",
            "4       105  Eduarda       500.0               10         50.0\n"
          ]
        }
      ]
    },
    {
      "cell_type": "markdown",
      "source": [
        "##Categorizando o desempenho acadêmico"
      ],
      "metadata": {
        "id": "6a5GZwejYCq0"
      }
    },
    {
      "cell_type": "markdown",
      "source": [
        "Objetivo:\n",
        "\n",
        "1-Criar uma função chamada categoriza_desempenho para classificar as notas conforme as faixas descritas.\n",
        "\n",
        "\"Excelente\": Para notas maiores ou iguais a 90.\n",
        "\n",
        "\"Bom\": Para notas entre 70 (inclusive) e 89.\n",
        "\n",
        "\"Regular\": Para notas entre 50 (inclusive) e 69.\n",
        "\n",
        "\"Insuficiente\": Para notas abaixo de 50.\n",
        "\n",
        "2-Aplicar a função à coluna NotaFinal usando o método apply.\n",
        "\n",
        "3-Exibir as colunas Aluno, NotaFinal e Categoria_Desempenho."
      ],
      "metadata": {
        "id": "iPswjRbnYEmr"
      }
    },
    {
      "cell_type": "code",
      "source": [
        "import pandas as pd\n",
        "\n",
        "# Dados dos alunos\n",
        "dados = {\n",
        "    'Aluno': ['Alice', 'Bruno', 'Carla', 'Daniel', 'Eduarda', 'Felipe', 'Gabriela', 'Henrique'],\n",
        "    'NotaFinal': [95, 82, 67, 45, 78, 88, 50, 30]\n",
        "}\n",
        "\n",
        "# Criando o DataFrame\n",
        "df_alunos = pd.DataFrame(dados)\n",
        "df_alunos"
      ],
      "metadata": {
        "id": "YpkexK0bYPnr"
      },
      "execution_count": null,
      "outputs": []
    },
    {
      "cell_type": "code",
      "source": [
        "def categoriza_desempenho(nota):\n",
        "  if nota >= 90:\n",
        "    return 'Excelente'\n",
        "  elif nota >= 70:\n",
        "   return 'Bom'\n",
        "  elif nota >= 50:\n",
        "    return 'Regular'\n",
        "  elif nota < 50:\n",
        "    return 'Insuficiente'"
      ],
      "metadata": {
        "id": "rXdEULkRY8us"
      },
      "execution_count": null,
      "outputs": []
    },
    {
      "cell_type": "code",
      "source": [
        "df_alunos['CategorizaDesempenho'] = df_alunos['NotaFinal'].apply(categoriza_desempenho)"
      ],
      "metadata": {
        "id": "yHne_rTya3xV"
      },
      "execution_count": null,
      "outputs": []
    },
    {
      "cell_type": "code",
      "source": [
        "print(df_alunos[['Aluno','NotaFinal','CategorizaDesempenho']])"
      ],
      "metadata": {
        "colab": {
          "base_uri": "https://localhost:8080/"
        },
        "id": "Ap64iiDPbmvc",
        "outputId": "6dad3dda-3c63-473c-d83f-84ab346addd3"
      },
      "execution_count": null,
      "outputs": [
        {
          "output_type": "stream",
          "name": "stdout",
          "text": [
            "      Aluno  NotaFinal CategorizaDesempenho\n",
            "0     Alice         95            Excelente\n",
            "1     Bruno         82                  Bom\n",
            "2     Carla         67              Regular\n",
            "3    Daniel         45         Insuficiente\n",
            "4   Eduarda         78                  Bom\n",
            "5    Felipe         88                  Bom\n",
            "6  Gabriela         50              Regular\n",
            "7  Henrique         30         Insuficiente\n"
          ]
        }
      ]
    },
    {
      "cell_type": "markdown",
      "source": [
        "##Classificação do IMC (Índice de Massa Corporal)"
      ],
      "metadata": {
        "id": "z8usvJMycQ4U"
      }
    },
    {
      "cell_type": "markdown",
      "source": [
        "Objetivo:\n",
        "\n",
        "1-Criar uma função chamada categoriza_imc para classificar o IMC conforme as faixas descritas.\n",
        "\n",
        "* \"Abaixo do peso\": IMC menor que 18.5.\n",
        "* \"Peso normal\": IMC entre 18.5 e 24.9 (inclusive).\n",
        "* \"Sobrepeso\": IMC entre 25 e 29.9 (inclusive).\n",
        "* \"Obesidade Grau 1\": IMC entre 30 e 34.9 (inclusive).\n",
        "* \"Obesidade Grau 2\": IMC entre 35 e 39.9 (inclusive).\n",
        "* \"Obesidade Grau 3\": IMC maior ou igual a 40.\n",
        "\n",
        "2-Calcular o IMC de cada pessoa e adicionar uma nova coluna IMC ao DataFrame.\n",
        "\n",
        "Fórmula do IMC: IMC = peso / altura².\n",
        "\n",
        "3-Aplicar a função à coluna IMC para criar a nova coluna Categoria_IMC.\n",
        "\n",
        "4-Exibir as colunas Pessoa, Peso, Altura, IMC e Categoria_IMC."
      ],
      "metadata": {
        "id": "zHUCpRGEcTGb"
      }
    },
    {
      "cell_type": "code",
      "source": [
        "import pandas as pd\n",
        "\n",
        "# Dados das pessoas\n",
        "dados = {\n",
        "    'Pessoa': ['Ana', 'Bruno', 'Carla', 'Daniel', 'Eduarda', 'Felipe', 'Gabriela', 'Henrique'],\n",
        "    'Peso': [50, 80, 70, 95, 60, 110, 45, 130],\n",
        "    'Altura': [1.60, 1.75, 1.68, 1.80, 1.55, 1.90, 1.50, 1.85]\n",
        "}\n",
        "\n",
        "# Criando o DataFrame\n",
        "df_saude = pd.DataFrame(dados)\n",
        "df_saude"
      ],
      "metadata": {
        "id": "xZvfpzGedHFV"
      },
      "execution_count": null,
      "outputs": []
    },
    {
      "cell_type": "code",
      "source": [
        "def categoriza_imc(imc):\n",
        "  if imc < 18.5:\n",
        "    return 'Abaixo do peso'\n",
        "  elif imc <= 24.9:\n",
        "    return 'Peso Normal'\n",
        "  elif imc <= 29.9:\n",
        "    return 'Sobrepeso'\n",
        "  elif imc <= 34.9:\n",
        "    return 'Obesidade Grau 1'\n",
        "  elif imc <= 39.9:\n",
        "    return 'Obesidade Grau 2'\n",
        "  elif imc >= 40:\n",
        "    return 'Obesidade Grau 3'\n"
      ],
      "metadata": {
        "id": "0ZMLv8HkdOyD"
      },
      "execution_count": null,
      "outputs": []
    },
    {
      "cell_type": "code",
      "source": [
        "df_saude['IMC'] = df_saude['Peso']/df_saude['Altura'].apply(lambda x : x**2)"
      ],
      "metadata": {
        "id": "RUsVe4mQfM9P"
      },
      "execution_count": null,
      "outputs": []
    },
    {
      "cell_type": "code",
      "source": [
        "df_saude['CategorizaIMC'] = df_saude['IMC'].apply(categoriza_imc)"
      ],
      "metadata": {
        "id": "KPHX8TD3fx3t"
      },
      "execution_count": null,
      "outputs": []
    },
    {
      "cell_type": "code",
      "source": [
        "print(df_saude[['Pessoa', 'Altura', 'Peso', 'Altura', 'IMC', 'CategorizaIMC' ]])"
      ],
      "metadata": {
        "colab": {
          "base_uri": "https://localhost:8080/"
        },
        "id": "UOGbeBuEgALk",
        "outputId": "c08f3435-0dee-42cf-e7eb-7785b9c63a10"
      },
      "execution_count": null,
      "outputs": [
        {
          "output_type": "stream",
          "name": "stdout",
          "text": [
            "     Pessoa  Altura  Peso  Altura        IMC     CategorizaIMC\n",
            "0       Ana    1.60    50    1.60  19.531250       Peso Normal\n",
            "1     Bruno    1.75    80    1.75  26.122449         Sobrepeso\n",
            "2     Carla    1.68    70    1.68  24.801587       Peso Normal\n",
            "3    Daniel    1.80    95    1.80  29.320988         Sobrepeso\n",
            "4   Eduarda    1.55    60    1.55  24.973985         Sobrepeso\n",
            "5    Felipe    1.90   110    1.90  30.470914  Obesidade Grau 1\n",
            "6  Gabriela    1.50    45    1.50  20.000000       Peso Normal\n",
            "7  Henrique    1.85   130    1.85  37.983930  Obesidade Grau 2\n"
          ]
        }
      ]
    },
    {
      "cell_type": "markdown",
      "source": [
        "##Calculando a porcentagem de economia"
      ],
      "metadata": {
        "id": "MlxAD3k3h6g0"
      }
    },
    {
      "cell_type": "markdown",
      "source": [
        "Objetivo:\n",
        "\n",
        "1-Usar o método apply com uma função lambda para calcular a porcentagem de economia de cada pessoa.\n",
        "\n",
        "2-Criar a nova coluna Economia (%) no DataFrame.\n",
        "\n",
        "3-Exibir as colunas Pessoa, Ganhos, Despesas e Economia (%)."
      ],
      "metadata": {
        "id": "tE0Fc2GWh8jG"
      }
    },
    {
      "cell_type": "code",
      "source": [
        "import pandas as pd\n",
        "\n",
        "# Dados financeiros das pessoas\n",
        "dados = {\n",
        "    'Pessoa': ['Ana', 'Bruno', 'Carla', 'Daniel', 'Eduarda', 'Felipe', 'Gabriela', 'Henrique'],\n",
        "    'Ganhos': [5000, 4000, 3500, 6000, 2500, 7000, 3000, 4500],\n",
        "    'Despesas': [3000, 2500, 2000, 5000, 2000, 6000, 2500, 4000]\n",
        "}\n",
        "\n",
        "# Criando o DataFrame\n",
        "df_financas = pd.DataFrame(dados)"
      ],
      "metadata": {
        "id": "67b_lBvBh6JW"
      },
      "execution_count": null,
      "outputs": []
    },
    {
      "cell_type": "code",
      "source": [
        "df_financas['Economia %'] = df_financas.apply(lambda x : ((x['Ganhos'] - x['Despesas'])/ x['Ganhos']) * 100 , axis =1)"
      ],
      "metadata": {
        "id": "SijGXy3GiLPG"
      },
      "execution_count": null,
      "outputs": []
    },
    {
      "cell_type": "code",
      "source": [
        "print(df_financas[['Pessoa', 'Ganhos', 'Despesas', 'Economia %']])"
      ],
      "metadata": {
        "colab": {
          "base_uri": "https://localhost:8080/"
        },
        "id": "Sx9feT_PklId",
        "outputId": "5f54499f-c190-41ae-edf0-962992a8ab9c"
      },
      "execution_count": null,
      "outputs": [
        {
          "output_type": "stream",
          "name": "stdout",
          "text": [
            "     Pessoa  Ganhos  Despesas  Economia %\n",
            "0       Ana    5000      3000   40.000000\n",
            "1     Bruno    4000      2500   37.500000\n",
            "2     Carla    3500      2000   42.857143\n",
            "3    Daniel    6000      5000   16.666667\n",
            "4   Eduarda    2500      2000   20.000000\n",
            "5    Felipe    7000      6000   14.285714\n",
            "6  Gabriela    3000      2500   16.666667\n",
            "7  Henrique    4500      4000   11.111111\n"
          ]
        }
      ]
    },
    {
      "cell_type": "markdown",
      "source": [
        "##Classificando produtos com estoque baixo"
      ],
      "metadata": {
        "id": "xF9euOSYlVSX"
      }
    },
    {
      "cell_type": "markdown",
      "source": [
        "Objetivo:\n",
        "\n",
        "1-Usar o método apply com uma função lambda para classificar os produtos com base na quantidade em estoque.\n",
        "\n",
        "* True (Verdadeiro) se o estoque do produto for menor que 50.\n",
        "* False (Falso) caso contrário.\n",
        "\n",
        "2-Criar a nova coluna Estoque Baixo no DataFrame.\n",
        "\n",
        "3-Exibir as colunas Produto, Estoque e Estoque Baixo."
      ],
      "metadata": {
        "id": "jDZDH0MSlXfl"
      }
    },
    {
      "cell_type": "code",
      "source": [
        "import pandas as pd\n",
        "\n",
        "# Dados dos produtos\n",
        "dados = {\n",
        "    'Produto': ['Notebook', 'Mouse', 'Teclado', 'Monitor', 'Cadeira', 'Impressora', 'Pen Drive', 'Mesa'],\n",
        "    'Estoque': [30, 150, 45, 20, 60, 10, 80, 50]\n",
        "}\n",
        "\n",
        "# Criando o DataFrame\n",
        "df_produtos = pd.DataFrame(dados)"
      ],
      "metadata": {
        "id": "QqMirldWlgB8"
      },
      "execution_count": null,
      "outputs": []
    },
    {
      "cell_type": "code",
      "source": [
        "df_produtos['EstoqueBaixo'] = df_produtos['Estoque'].apply(lambda x: True if x < 50 else False)"
      ],
      "metadata": {
        "id": "RPRwpqgAlyjV"
      },
      "execution_count": null,
      "outputs": []
    },
    {
      "cell_type": "code",
      "source": [
        "print(df_produtos[['Produto', 'Estoque', 'EstoqueBaixo']])"
      ],
      "metadata": {
        "colab": {
          "base_uri": "https://localhost:8080/"
        },
        "id": "MpkM2VrvnEb6",
        "outputId": "2eda5024-0704-4ee2-f32b-57a5fde0cc4a"
      },
      "execution_count": null,
      "outputs": [
        {
          "output_type": "stream",
          "name": "stdout",
          "text": [
            "      Produto  Estoque  EstoqueBaixo\n",
            "0    Notebook       30          True\n",
            "1       Mouse      150         False\n",
            "2     Teclado       45          True\n",
            "3     Monitor       20          True\n",
            "4     Cadeira       60         False\n",
            "5  Impressora       10          True\n",
            "6   Pen Drive       80         False\n",
            "7        Mesa       50         False\n"
          ]
        }
      ]
    },
    {
      "cell_type": "markdown",
      "source": [
        "##Analisando o desempenho de vendedores"
      ],
      "metadata": {
        "id": "bijmHfvrnkrd"
      }
    },
    {
      "cell_type": "markdown",
      "source": [
        "Objetivo:\n",
        "\n",
        "1-Criar a nova coluna Desempenho com base na comparação entre as colunas Vendas e Meta.\n",
        "\n",
        "* Se as vendas forem maiores ou iguais à meta, o desempenho deve ser \"Atingiu a Meta\".\n",
        "* Se as vendas forem menores que a meta, o desempenho deve ser \"Não Atingiu a Meta\".\n",
        "\n",
        "2-Criar a nova coluna Comissão Recebida com base no cálculo da comissão.\n",
        "\n",
        "Fórmula para calcular a comissão recebida: Comissão Recebida = (Comissão (%) / 100) x Vendas.\n",
        "\n",
        "3-Exibir as colunas Vendedor, Meta, Vendas, Desempenho e Comissão Recebida."
      ],
      "metadata": {
        "id": "bN-ClhhBnml_"
      }
    },
    {
      "cell_type": "code",
      "source": [
        "import pandas as pd\n",
        "\n",
        "# Dados dos vendedores\n",
        "dados = {\n",
        "    'Vendedor': ['Ana', 'Bruno', 'Carla', 'Daniel', 'Eduarda', 'Felipe', 'Gabriela', 'Henrique'],\n",
        "    'Meta': [20000, 15000, 18000, 25000, 12000, 30000, 10000, 22000],\n",
        "    'Vendas': [22000, 14000, 19000, 24000, 13000, 28000, 9000, 23000],\n",
        "    'Comissão (%)': [5, 4, 6, 5, 4, 7, 3, 6]\n",
        "}\n",
        "\n",
        "# Criando o DataFrame\n",
        "df_vendas = pd.DataFrame(dados)"
      ],
      "metadata": {
        "id": "OWyKHjyQoNPV"
      },
      "execution_count": null,
      "outputs": []
    },
    {
      "cell_type": "code",
      "source": [
        " df_vendas['Desempenho'] = df_vendas.apply(lambda x: 'Atingiu a Meta' if x['Meta'] <= x['Vendas'] else 'Não Atingiu a Meta', axis = 1)"
      ],
      "metadata": {
        "id": "8UF0ViTQoTW8"
      },
      "execution_count": null,
      "outputs": []
    },
    {
      "cell_type": "code",
      "source": [
        " df_vendas['ComissaoRecebida']= df_vendas.apply(lambda x : (x['Comissão (%)']/100)* x['Vendas'], axis = 1)"
      ],
      "metadata": {
        "id": "rkIp9Q0PqN3M"
      },
      "execution_count": null,
      "outputs": []
    },
    {
      "cell_type": "code",
      "source": [
        "print(df_vendas[['Vendedor', 'Meta', 'Vendas', 'Desempenho', 'ComissaoRecebida']])"
      ],
      "metadata": {
        "colab": {
          "base_uri": "https://localhost:8080/"
        },
        "id": "ViupJdT4AiWU",
        "outputId": "c2a3ffe8-52f2-41d0-8a12-57ea7b119a7a"
      },
      "execution_count": null,
      "outputs": [
        {
          "output_type": "stream",
          "name": "stdout",
          "text": [
            "   Vendedor   Meta  Vendas          Desempenho  ComissaoRecebida\n",
            "0       Ana  20000   22000      Atingiu a Meta            1100.0\n",
            "1     Bruno  15000   14000  Não Atingiu a Meta             560.0\n",
            "2     Carla  18000   19000      Atingiu a Meta            1140.0\n",
            "3    Daniel  25000   24000  Não Atingiu a Meta            1200.0\n",
            "4   Eduarda  12000   13000      Atingiu a Meta             520.0\n",
            "5    Felipe  30000   28000  Não Atingiu a Meta            1960.0\n",
            "6  Gabriela  10000    9000  Não Atingiu a Meta             270.0\n",
            "7  Henrique  22000   23000      Atingiu a Meta            1380.0\n"
          ]
        }
      ]
    },
    {
      "cell_type": "markdown",
      "source": [
        "##Análise de textos em redes sociais"
      ],
      "metadata": {
        "id": "CUIxg0moBUNi"
      }
    },
    {
      "cell_type": "markdown",
      "source": [
        "Objetivo:\n",
        "\n",
        "1-Usar o método apply para criar uma nova coluna chamada Período_Dia, que classifica o horário da postagem em:\n",
        "\n",
        "\"Madrugada\" (00:00 - 05:59)\n",
        "\n",
        "\"Manhã\" (06:00 - 11:59)\n",
        "\n",
        "\"Tarde\" (12:00 - 17:59)\n",
        "\n",
        "\"Noite\" (18:00 - 23:59)\n",
        "\n",
        "2-Usar o método apply para criar uma coluna Análise_Conteúdo que retorna um dicionário com:\n",
        "\n",
        "Número de hashtags utilizadas\n",
        "\n",
        "Número de emojis no post\n",
        "\n",
        "Comprimento do texto\n",
        "\n",
        "3-Exibir um DataFrame organizado com as análises."
      ],
      "metadata": {
        "id": "k0JLrpdTBWC6"
      }
    },
    {
      "cell_type": "code",
      "source": [
        "import pandas as pd\n",
        "\n",
        "dados = {\n",
        "    'Texto': [\n",
        "        \"Bom dia! ☀️ Começando mais uma semana produtiva!\",\n",
        "        \"Novo produto chegando! 🎉 #novidade #lancamento\",\n",
        "        \"Promoção relâmpago ⚡ Aproveitem! #promo #desconto\",\n",
        "        \"Boa noite pessoal! 🌙 Até amanhã! #boanoite\",\n",
        "        \"Dica do dia: 💡 Mantenha-se hidratado! #saude #bemestar\"\n",
        "    ],\n",
        "    'Horário': ['07:30', '15:45', '12:20', '22:15', '10:00'],\n",
        "    'Hashtags': ['', 'novidade,lancamento', 'promo,desconto', 'boanoite', 'saude,bemestar'],\n",
        "    'Caracteres_Emoji': ['☀️', '🎉', '⚡', '🌙', '💡']\n",
        "}\n",
        "\n",
        "df_posts = pd.DataFrame(dados)"
      ],
      "metadata": {
        "id": "5FpoYgJeByhe"
      },
      "execution_count": null,
      "outputs": []
    },
    {
      "cell_type": "code",
      "source": [
        "# Função para determinar período do dia\n",
        "def get_periodo(horario):\n",
        "    hora = int(horario.split(':')[0])\n",
        "    if 0 <= hora < 6:\n",
        "        return 'Madrugada'\n",
        "    elif 6 <= hora < 12:\n",
        "        return 'Manhã'\n",
        "    elif 12 <= hora < 18:\n",
        "        return 'Tarde'\n",
        "    else:\n",
        "        return 'Noite'\n",
        "\n",
        "# Função para análise do conteúdo\n",
        "def analisar_conteudo(row):\n",
        "    num_hashtags = len([tag for tag in row['Hashtags'].split(',') if tag])\n",
        "    num_emojis = len(row['Caracteres_Emoji'])\n",
        "    comprimento_texto = len(row['Texto'])\n",
        "\n",
        "    return {\n",
        "        'num_hashtags': num_hashtags,\n",
        "        'num_emojis': num_emojis,\n",
        "        'comprimento_texto': comprimento_texto\n",
        "    }"
      ],
      "metadata": {
        "id": "n8p19Bw1B2hZ"
      },
      "execution_count": null,
      "outputs": []
    },
    {
      "cell_type": "code",
      "source": [
        "df_posts['Periodo_Dia'] = df_posts['Horário'].apply(get_periodo)"
      ],
      "metadata": {
        "id": "JVx5iPvMCMiM"
      },
      "execution_count": null,
      "outputs": []
    },
    {
      "cell_type": "code",
      "source": [
        "df_posts['Analise_Conteudo']= df_posts.apply(analisar_conteudo, axis =1)"
      ],
      "metadata": {
        "id": "Pg0PxC6jC48D"
      },
      "execution_count": null,
      "outputs": []
    },
    {
      "cell_type": "code",
      "source": [
        "print(df_posts[['Texto', 'Horário','Periodo_Dia','Analise_Conteudo']])"
      ],
      "metadata": {
        "colab": {
          "base_uri": "https://localhost:8080/"
        },
        "id": "BnODDvwjECTi",
        "outputId": "b5f38aca-31ff-41f8-d708-5c7b49aa40b9"
      },
      "execution_count": null,
      "outputs": [
        {
          "output_type": "stream",
          "name": "stdout",
          "text": [
            "                                               Texto Horário Periodo_Dia  \\\n",
            "0   Bom dia! ☀️ Começando mais uma semana produtiva!   07:30       Manhã   \n",
            "1     Novo produto chegando! 🎉 #novidade #lancamento   15:45       Tarde   \n",
            "2  Promoção relâmpago ⚡ Aproveitem! #promo #desconto   12:20       Tarde   \n",
            "3         Boa noite pessoal! 🌙 Até amanhã! #boanoite   22:15       Noite   \n",
            "4  Dica do dia: 💡 Mantenha-se hidratado! #saude #...   10:00       Manhã   \n",
            "\n",
            "                                    Analise_Conteudo  \n",
            "0  {'num_hashtags': 0, 'num_emojis': 2, 'comprime...  \n",
            "1  {'num_hashtags': 2, 'num_emojis': 1, 'comprime...  \n",
            "2  {'num_hashtags': 2, 'num_emojis': 1, 'comprime...  \n",
            "3  {'num_hashtags': 1, 'num_emojis': 1, 'comprime...  \n",
            "4  {'num_hashtags': 2, 'num_emojis': 1, 'comprime...  \n"
          ]
        }
      ]
    }
  ]
}
