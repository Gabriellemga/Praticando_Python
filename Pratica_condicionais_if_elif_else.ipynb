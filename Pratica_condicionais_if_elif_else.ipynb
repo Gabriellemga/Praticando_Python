{
  "nbformat": 4,
  "nbformat_minor": 0,
  "metadata": {
    "colab": {
      "provenance": [],
      "authorship_tag": "ABX9TyOEecNogI9CrZerud7MtHdZ",
      "include_colab_link": true
    },
    "kernelspec": {
      "name": "python3",
      "display_name": "Python 3"
    },
    "language_info": {
      "name": "python"
    }
  },
  "cells": [
    {
      "cell_type": "markdown",
      "metadata": {
        "id": "view-in-github",
        "colab_type": "text"
      },
      "source": [
        "<a href=\"https://colab.research.google.com/github/Gabriellemga/Praticando_Python/blob/main/Pratica_condicionais_if_elif_else.ipynb\" target=\"_parent\"><img src=\"https://colab.research.google.com/assets/colab-badge.svg\" alt=\"Open In Colab\"/></a>"
      ]
    },
    {
      "cell_type": "markdown",
      "source": [
        " 1- Crie um programa que receba o número de vendas dos dois produtos e exiba uma mensagem indicando qual deles vendeu mais. Se as quantidades forem iguais, exiba uma mensagem dizendo que houve empate.\n"
      ],
      "metadata": {
        "id": "h1HQBvxwOTTS"
      }
    },
    {
      "cell_type": "code",
      "source": [
        "maçã = int(input('Informe o número de maçãs vendidas: '))\n",
        "banana = int(input('Informe o número de banana vendidas: '))\n",
        "\n",
        "if maçã > banana:\n",
        "  print('As maçãs tiveram mais vendas.')\n",
        "elif banana > maçã:\n",
        "    print('As bananas tiveram mais vendas.')\n",
        "else:\n",
        "  print('As vendas foram iguais.')\n"
      ],
      "metadata": {
        "colab": {
          "base_uri": "https://localhost:8080/"
        },
        "id": "9Q6WLAydukMA",
        "outputId": "fba14744-f5f8-4f77-e24a-0543fe261ca8"
      },
      "execution_count": null,
      "outputs": [
        {
          "output_type": "stream",
          "name": "stdout",
          "text": [
            "Informe o número de maçãs vendidas: 5\n",
            "Informe o número de banana vendidas: 2\n",
            "As maçãs tiveram mais vendas.\n"
          ]
        }
      ]
    },
    {
      "cell_type": "markdown",
      "source": [
        "2-Camila está organizando um projeto e precisa calcular o tempo total necessário para concluir três atividades: A, B e C. No entanto, se alguma atividade tiver um número de dias negativo, o código deve avisar que os valores inseridos são inválidos e não calcular o total.\n",
        "Escreva um programa que receba o número de dias de três atividades e exiba o tempo total do projeto. Se algum valor for negativo, mostre uma mensagem informando o erro."
      ],
      "metadata": {
        "id": "J3bP2qrdwkte"
      }
    },
    {
      "cell_type": "code",
      "source": [
        "atividade_a = int(input('Informe o número de dias da atividade A: '))\n",
        "atividade_b = int(input('Informe o número de dias da atividade B: '))\n",
        "atividade_c = int(input('Informe o número de dias da atividade C: '))\n",
        "soma = 0\n",
        "\n",
        "if atividade_a >= 0 and atividade_b >= 0 and atividade_c >= 0:\n",
        "   soma = atividade_a + atividade_b + atividade_c\n",
        "   print(f'{soma} dias é o tempo total  para conclusão do trabalho.')\n",
        "else:\n",
        "  print('Os dias não podem ser negativos.')"
      ],
      "metadata": {
        "colab": {
          "base_uri": "https://localhost:8080/"
        },
        "id": "i7ZhkfPPxCHf",
        "outputId": "9e1b2f3b-20c5-4e23-a181-4592696a01db"
      },
      "execution_count": null,
      "outputs": [
        {
          "output_type": "stream",
          "name": "stdout",
          "text": [
            "Informe o número de dias da atividade A: 10\n",
            "Informe o número de dias da atividade B: 0\n",
            "Informe o número de dias da atividade C: 2\n",
            "12 dias é o tempo total  para conclusão do trabalho.\n"
          ]
        }
      ]
    },
    {
      "cell_type": "markdown",
      "source": [
        "3-Lucas trabalha em TI e precisa garantir que a temperatura de uma sala de servidores não ultrapasse 25°C. Ele quer um programa que receba a temperatura atual como entrada e, se necessário, exiba uma mensagem de alerta."
      ],
      "metadata": {
        "id": "crRpd59azabn"
      }
    },
    {
      "cell_type": "code",
      "source": [
        "temperatura = float(input('Informe a temperatura atual: '))\n",
        "\n",
        "if temperatura >= 25:\n",
        "    print('Alerta! Temperatura acima do permitido.')\n",
        "else:\n",
        "  print('A temperatura está dentro do limite permitido.')"
      ],
      "metadata": {
        "colab": {
          "base_uri": "https://localhost:8080/"
        },
        "id": "0a7qqAMWzcul",
        "outputId": "762c35af-f6b9-4ae7-d8b6-edc9b4bde6b4"
      },
      "execution_count": null,
      "outputs": [
        {
          "output_type": "stream",
          "name": "stdout",
          "text": [
            "Informe a temperatura atual: 25.5\n",
            "Alerta! Temperatura acima do permitido.\n"
          ]
        }
      ]
    },
    {
      "cell_type": "markdown",
      "source": [
        "4-Anna Júlia está criando um sistema para calcular o Índice de Massa Corporal (IMC) e fornecer recomendações básicas. O programa deve receber o peso e a altura de uma pessoa e exibir o valor do IMC, além de indicar se está abaixo do peso, com peso normal ou acima do peso. Crie um programa que receba o peso (em kg) e a altura (em metros) e calcule o IMC usando a fórmula:\n",
        "\n",
        " IMC = peso / (altura ** 2)\n",
        "\n",
        " Depois, exiba o valor do IMC e uma mensagem indicando se está abaixo do peso (IMC < 18.5), peso normal (18.5 <= IMC < 25) ou acima do peso (IMC >= 25)."
      ],
      "metadata": {
        "id": "xiPFgcUz0mr1"
      }
    },
    {
      "cell_type": "code",
      "source": [
        "peso = float(input('Informe o seu peso (kg): '))\n",
        "altura = float(input('Informe a sua altura (m):'))\n",
        "IMC = peso/altura**2\n",
        "\n",
        "print(f'Seu IMC : {IMC:.2f}')\n",
        "if IMC < 18.5:\n",
        "  print('Você está abaixo do peso.')\n",
        "elif  18.5 <= IMC <25:\n",
        "    print ('O seu peso é normal.')\n",
        "else:\n",
        "  print('Você está acima do peso.')\n",
        "\n"
      ],
      "metadata": {
        "colab": {
          "base_uri": "https://localhost:8080/"
        },
        "id": "uRU2odV00o5m",
        "outputId": "eb40b7bf-26a6-4d11-9692-4e407fee1f5e"
      },
      "execution_count": null,
      "outputs": [
        {
          "output_type": "stream",
          "name": "stdout",
          "text": [
            "Informe o seu peso (kg): 52\n",
            "Informe a sua altura (m):1.64\n",
            "Seu IMC : 19.33\n",
            "O seu peso é normal\n"
          ]
        }
      ]
    },
    {
      "cell_type": "markdown",
      "source": [
        "5-Carlos quer monitorar seu orçamento mensal para evitar gastos excessivos. Ele estabeleceu um limite de R$ 3.000,00 para seus gastos e precisa de um programa que ajude a controlar suas despesas. O programa deve receber o total de despesas realizadas e informar se ele ultrapassou o limite ou ainda está dentro do orçamento."
      ],
      "metadata": {
        "id": "c_aeGihE27Nl"
      }
    },
    {
      "cell_type": "code",
      "source": [
        "despesas = float(input('Informe o total de despesas do mês:  '))\n",
        "\n",
        "if despesas > 3000.00:\n",
        "   print('Atenção! O limite do orçamento foi ultrapassado.')\n",
        "else:\n",
        "  print('O orçamento foi respeitado.')"
      ],
      "metadata": {
        "colab": {
          "base_uri": "https://localhost:8080/"
        },
        "id": "CXjfrNZN28qt",
        "outputId": "6205c907-611b-4bbc-f28f-1b3c65dc8174"
      },
      "execution_count": null,
      "outputs": [
        {
          "output_type": "stream",
          "name": "stdout",
          "text": [
            "Informe o total de despesas do mês:  3000.01\n",
            "Atenção! O limite do orçamento foi ultrapassado.\n"
          ]
        }
      ]
    },
    {
      "cell_type": "markdown",
      "source": [
        "6-Mariana é responsável por liberar o acesso ao escritório e precisa de um programa que verifique se os funcionários podem entrar. Para isso, ela usará o horário atual. O escritório só permite acesso entre 8h e 18h. Crie um programa que receba a hora atual como entrada (em formato de 24 horas) e exiba uma mensagem informando se o acesso é permitido ou negado."
      ],
      "metadata": {
        "id": "2Ht9cV3E4PRN"
      }
    },
    {
      "cell_type": "code",
      "source": [
        "hora = int(input('Informe a hora atual(formato de 24 horas):  '))\n",
        "\n",
        "if 8 <= hora <= 18:\n",
        "  print('Acesso permitido!')\n",
        "else:\n",
        "  print('Acesso negado.')"
      ],
      "metadata": {
        "colab": {
          "base_uri": "https://localhost:8080/"
        },
        "id": "-VjCa4JC4Qgk",
        "outputId": "11de10ed-1af0-415e-8e96-a0b9647d328e"
      },
      "execution_count": null,
      "outputs": [
        {
          "output_type": "stream",
          "name": "stdout",
          "text": [
            "Informe a hora atual(formato de 24 horas):  19\n",
            "Acesso negado.\n"
          ]
        }
      ]
    },
    {
      "cell_type": "markdown",
      "source": [
        "7-Uma professora precisa de um programa que ajude a calcular a média final dos alunos e informe se foram aprovados, ficaram de recuperação ou reprovados. As regras são:\n",
        "\n",
        "Média >= 7: Aprovado\n",
        "\n",
        "5 <= Média < 7: Recuperação\n",
        "\n",
        "Média < 5: Reprovado\n",
        "\n",
        "Escreva um programa que receba três notas como entrada e calcule a média final. Com base na média, exiba a situação do aluno."
      ],
      "metadata": {
        "id": "A2PiTXqN5v7U"
      }
    },
    {
      "cell_type": "code",
      "source": [
        "nota_1 = float(input('Informe a primeira nota: '))\n",
        "nota_2 = float(input('Informe a segunda nota: '))\n",
        "nota_3 = float(input('Informe a terceira nota: '))\n",
        "\n",
        "media = (nota_1 + nota_2 + nota_3)/3\n",
        "\n",
        "print(f'Média do aluno: {media:.2f}')\n",
        "\n",
        "if media >= 7:\n",
        "  print('Aluno aprovado')\n",
        "elif 5 <= media < 7:\n",
        "  print('Aluno em recuperação')\n",
        "else:\n",
        "  print('Aluno reprovado')"
      ],
      "metadata": {
        "colab": {
          "base_uri": "https://localhost:8080/"
        },
        "id": "L0n8ETdU5xDc",
        "outputId": "096b95df-85e1-478f-b894-247d2e43f266"
      },
      "execution_count": null,
      "outputs": [
        {
          "output_type": "stream",
          "name": "stdout",
          "text": [
            "Informe a primeira nota: 5.3\n",
            "Informe a segunda nota: 6.7\n",
            "Informe a terceira nota: 8.3\n",
            "Média do aluno: 6.77\n",
            "Aluno em recuperação\n"
          ]
        }
      ]
    },
    {
      "cell_type": "markdown",
      "source": [
        "8-Fernanda está planejando uma viagem e quer calcular quanto pagará de pedágio. O valor do pedágio depende da distância percorrida:\n",
        "\n",
        "Até 100 km: R$ 10,00\n",
        "\n",
        "Entre 100 km e 200 km: R$ 20,00\n",
        "\n",
        "Acima de 200 km: R$ 30,00\n",
        "\n",
        "Crie um programa que receba a distância percorrida e informe o valor do pedágio correspondente."
      ],
      "metadata": {
        "id": "P7cQrg_88H-j"
      }
    },
    {
      "cell_type": "code",
      "source": [
        "distância = int(input('Informa a distância pecorrida(km): '))\n",
        "\n",
        "\n",
        "if distância <= 100:\n",
        "  print('Valor do pedagio:R$ 10,00.')\n",
        "elif 100 < distância <= 200:\n",
        "  print('Valor do pedagio:R$ 20,00.')\n",
        "else:\n",
        "  print('Valor do pedagio:R$ 30,00.')\n"
      ],
      "metadata": {
        "colab": {
          "base_uri": "https://localhost:8080/"
        },
        "id": "YWt42i4r8Hku",
        "outputId": "a6080f4e-0f40-45c8-c592-40be210f2688"
      },
      "execution_count": null,
      "outputs": [
        {
          "output_type": "stream",
          "name": "stdout",
          "text": [
            "Informa a distância pecorrida(km): 201\n",
            "Valor do pedagio:R$ 30,00.\n"
          ]
        }
      ]
    },
    {
      "cell_type": "markdown",
      "source": [
        "9-Lucas está desenvolvendo um jogo e precisa de uma funcionalidade que verifique se um número é par ou ímpar. Essa verificação será usada para definir ações diferentes dentro do jogo. Escreva um programa que receba um número inteiro e exiba uma mensagem informando se ele é par ou ímpar."
      ],
      "metadata": {
        "id": "8m7eT6KE-KRr"
      }
    },
    {
      "cell_type": "code",
      "source": [
        "num = int(input('Informe um número inteiro:  '))\n",
        "\n",
        "if num%2 == 0:\n",
        "  print(f'O número {num} é par.')\n",
        "else:\n",
        "  print(f'O número {num} é impar.')"
      ],
      "metadata": {
        "colab": {
          "base_uri": "https://localhost:8080/"
        },
        "id": "accpbktw-LwL",
        "outputId": "02ebe63b-7dff-46c2-9bea-90d66d5ca6c0"
      },
      "execution_count": null,
      "outputs": [
        {
          "output_type": "stream",
          "name": "stdout",
          "text": [
            "Informe um número inteiro:  587\n",
            "O número 587 é impar.\n"
          ]
        }
      ]
    },
    {
      "cell_type": "markdown",
      "source": [
        "10-Pedro quer solicitar um empréstimo, mas a aprovação depende de duas condições:\n",
        "\n",
        "O valor da renda mensal precisa ser maior que R$ 2.000,00.\n",
        "\n",
        "O valor da parcela não pode ultrapassar 30% da renda.\n",
        "\n",
        "Crie um programa que receba como entrada a renda mensal de Pedro e o valor da parcela desejada. O programa deve informar se o empréstimo foi aprovado ou negado com base nas condições acima."
      ],
      "metadata": {
        "id": "RG442cQX_F3U"
      }
    },
    {
      "cell_type": "code",
      "source": [
        "renda = float(input('Informe o valor da renda mensal: '))\n",
        "parcela = float(input('Informe o valor da parcela desejada: '))\n",
        "\n",
        "valor_parcela = renda*0.3\n",
        "\n",
        "if renda >= 2000.00 and parcela <= valor_parcela:\n",
        "  print('Empréstimo aprovado')\n",
        "else:\n",
        "  print('Empréstimo negado, parcela acima de 30% da renda.')"
      ],
      "metadata": {
        "colab": {
          "base_uri": "https://localhost:8080/"
        },
        "id": "0D2bCbNt_G9F",
        "outputId": "d722abfa-5a02-4185-e3b1-f51651f6dff6"
      },
      "execution_count": null,
      "outputs": [
        {
          "output_type": "stream",
          "name": "stdout",
          "text": [
            "Informe o valor da renda mensal: 2500\n",
            "Informe o valor da parcela desejada: 800\n",
            "Empréstimo negado, parcela acima de 30% da renda.\n"
          ]
        }
      ]
    }
  ]
}